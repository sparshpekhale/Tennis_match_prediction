{
 "cells": [
  {
   "cell_type": "code",
   "execution_count": 22,
   "metadata": {},
   "outputs": [],
   "source": [
    "import os\n",
    "import pandas as pd\n",
    "\n",
    "from preprocessing import data_preprocess\n",
    "from models import make_ds, train_models, plot_rocs, get_preds, get_probas, plot_bar, hard_voting, soft_voting"
   ]
  },
  {
   "cell_type": "code",
   "execution_count": 23,
   "metadata": {},
   "outputs": [
    {
     "data": {
      "text/plain": [
       "['.~lock.atp_matches_2000.csv#',\n",
       " 'atp_matches_2000.csv',\n",
       " 'atp_matches_2001.csv',\n",
       " 'atp_matches_2002.csv',\n",
       " 'atp_matches_2003.csv',\n",
       " 'atp_matches_2004.csv',\n",
       " 'atp_matches_2005.csv',\n",
       " 'atp_matches_2006.csv',\n",
       " 'atp_matches_2007.csv',\n",
       " 'atp_matches_2008.csv',\n",
       " 'atp_matches_2009.csv',\n",
       " 'atp_matches_2010.csv',\n",
       " 'atp_matches_2011.csv',\n",
       " 'atp_matches_2012.csv',\n",
       " 'atp_matches_2013.csv',\n",
       " 'atp_matches_2014.csv',\n",
       " 'atp_matches_2015.csv']"
      ]
     },
     "execution_count": 23,
     "metadata": {},
     "output_type": "execute_result"
    }
   ],
   "source": [
    "dir = 'archive/'\n",
    "files = sorted(os.listdir(dir))\n",
    "files"
   ]
  },
  {
   "cell_type": "code",
   "execution_count": 24,
   "metadata": {},
   "outputs": [],
   "source": [
    "# # Make train_val set\n",
    "# train_val_data = pd.concat([pd.read_csv(dir+file) for file in files[:-3]])\n",
    "# test_data = pd.concat([pd.read_csv(dir+file) for file in files[-3:]])\n",
    "\n",
    "# # Preprocess and save train_val and test sets\n",
    "# data_preprocess(train_val_data).to_csv('train_val_2000_2012.csv', index_label=False)\n",
    "# data_preprocess(test_data).to_csv('test_2013_2015.csv', index_label=False)"
   ]
  },
  {
   "cell_type": "code",
   "execution_count": 25,
   "metadata": {},
   "outputs": [
    {
     "data": {
      "text/plain": [
       "(35208, 23)"
      ]
     },
     "execution_count": 25,
     "metadata": {},
     "output_type": "execute_result"
    }
   ],
   "source": [
    "# data = data_preprocess(pd.read_csv('archive/atp_matches_2004.csv'))\n",
    "data = pd.read_csv('train_val_2000_2012.csv')\n",
    "data.shape"
   ]
  },
  {
   "cell_type": "code",
   "execution_count": 26,
   "metadata": {},
   "outputs": [
    {
     "data": {
      "text/html": [
       "<div>\n",
       "<style scoped>\n",
       "    .dataframe tbody tr th:only-of-type {\n",
       "        vertical-align: middle;\n",
       "    }\n",
       "\n",
       "    .dataframe tbody tr th {\n",
       "        vertical-align: top;\n",
       "    }\n",
       "\n",
       "    .dataframe thead th {\n",
       "        text-align: right;\n",
       "    }\n",
       "</style>\n",
       "<table border=\"1\" class=\"dataframe\">\n",
       "  <thead>\n",
       "    <tr style=\"text-align: right;\">\n",
       "      <th></th>\n",
       "      <th>surface</th>\n",
       "      <th>draw-size</th>\n",
       "      <th>tourney_level</th>\n",
       "      <th>player0_id</th>\n",
       "      <th>player0_name</th>\n",
       "      <th>player0_hand</th>\n",
       "      <th>player0_ht</th>\n",
       "      <th>player0_ioc</th>\n",
       "      <th>player0_age</th>\n",
       "      <th>player0_rank</th>\n",
       "      <th>...</th>\n",
       "      <th>player1_hand</th>\n",
       "      <th>player1_ht</th>\n",
       "      <th>player1_ioc</th>\n",
       "      <th>player1_age</th>\n",
       "      <th>player1_rank</th>\n",
       "      <th>player1_rank_points</th>\n",
       "      <th>best_of</th>\n",
       "      <th>round</th>\n",
       "      <th>minutes</th>\n",
       "      <th>winner</th>\n",
       "    </tr>\n",
       "  </thead>\n",
       "  <tbody>\n",
       "    <tr>\n",
       "      <th>0</th>\n",
       "      <td>1</td>\n",
       "      <td>3</td>\n",
       "      <td>0</td>\n",
       "      <td>102776</td>\n",
       "      <td>Andrew Ilie</td>\n",
       "      <td>1</td>\n",
       "      <td>0.377778</td>\n",
       "      <td>3</td>\n",
       "      <td>0.308527</td>\n",
       "      <td>0.031552</td>\n",
       "      <td>...</td>\n",
       "      <td>1</td>\n",
       "      <td>0.488889</td>\n",
       "      <td>23</td>\n",
       "      <td>0.408980</td>\n",
       "      <td>0.071657</td>\n",
       "      <td>0.022744</td>\n",
       "      <td>0</td>\n",
       "      <td>4</td>\n",
       "      <td>0.240181</td>\n",
       "      <td>1</td>\n",
       "    </tr>\n",
       "    <tr>\n",
       "      <th>1</th>\n",
       "      <td>1</td>\n",
       "      <td>3</td>\n",
       "      <td>0</td>\n",
       "      <td>103602</td>\n",
       "      <td>Fernando Gonzalez</td>\n",
       "      <td>1</td>\n",
       "      <td>0.444444</td>\n",
       "      <td>11</td>\n",
       "      <td>0.153020</td>\n",
       "      <td>0.226014</td>\n",
       "      <td>...</td>\n",
       "      <td>1</td>\n",
       "      <td>0.222222</td>\n",
       "      <td>50</td>\n",
       "      <td>0.290504</td>\n",
       "      <td>0.088292</td>\n",
       "      <td>0.018130</td>\n",
       "      <td>0</td>\n",
       "      <td>4</td>\n",
       "      <td>0.125378</td>\n",
       "      <td>0</td>\n",
       "    </tr>\n",
       "    <tr>\n",
       "      <th>2</th>\n",
       "      <td>1</td>\n",
       "      <td>3</td>\n",
       "      <td>0</td>\n",
       "      <td>102205</td>\n",
       "      <td>Sebastien Lareau</td>\n",
       "      <td>1</td>\n",
       "      <td>0.444444</td>\n",
       "      <td>11</td>\n",
       "      <td>0.416675</td>\n",
       "      <td>0.084997</td>\n",
       "      <td>...</td>\n",
       "      <td>1</td>\n",
       "      <td>0.488889</td>\n",
       "      <td>59</td>\n",
       "      <td>0.185344</td>\n",
       "      <td>0.065259</td>\n",
       "      <td>0.024628</td>\n",
       "      <td>0</td>\n",
       "      <td>4</td>\n",
       "      <td>0.092145</td>\n",
       "      <td>1</td>\n",
       "    </tr>\n",
       "    <tr>\n",
       "      <th>3</th>\n",
       "      <td>1</td>\n",
       "      <td>3</td>\n",
       "      <td>0</td>\n",
       "      <td>102925</td>\n",
       "      <td>Justin Gimelstob</td>\n",
       "      <td>1</td>\n",
       "      <td>0.733333</td>\n",
       "      <td>68</td>\n",
       "      <td>0.280370</td>\n",
       "      <td>0.060528</td>\n",
       "      <td>...</td>\n",
       "      <td>0</td>\n",
       "      <td>0.444444</td>\n",
       "      <td>42</td>\n",
       "      <td>0.510740</td>\n",
       "      <td>0.067818</td>\n",
       "      <td>0.024043</td>\n",
       "      <td>0</td>\n",
       "      <td>4</td>\n",
       "      <td>0.222054</td>\n",
       "      <td>1</td>\n",
       "    </tr>\n",
       "    <tr>\n",
       "      <th>4</th>\n",
       "      <td>1</td>\n",
       "      <td>3</td>\n",
       "      <td>0</td>\n",
       "      <td>101826</td>\n",
       "      <td>Alex Lopez Moron</td>\n",
       "      <td>1</td>\n",
       "      <td>0.266667</td>\n",
       "      <td>22</td>\n",
       "      <td>0.504328</td>\n",
       "      <td>0.070831</td>\n",
       "      <td>...</td>\n",
       "      <td>1</td>\n",
       "      <td>0.488889</td>\n",
       "      <td>3</td>\n",
       "      <td>0.511712</td>\n",
       "      <td>0.046705</td>\n",
       "      <td>0.035220</td>\n",
       "      <td>0</td>\n",
       "      <td>4</td>\n",
       "      <td>0.086103</td>\n",
       "      <td>1</td>\n",
       "    </tr>\n",
       "  </tbody>\n",
       "</table>\n",
       "<p>5 rows × 23 columns</p>\n",
       "</div>"
      ],
      "text/plain": [
       "   surface  draw-size  tourney_level  player0_id       player0_name  \\\n",
       "0        1          3              0      102776        Andrew Ilie   \n",
       "1        1          3              0      103602  Fernando Gonzalez   \n",
       "2        1          3              0      102205   Sebastien Lareau   \n",
       "3        1          3              0      102925   Justin Gimelstob   \n",
       "4        1          3              0      101826   Alex Lopez Moron   \n",
       "\n",
       "   player0_hand  player0_ht  player0_ioc  player0_age  player0_rank  ...  \\\n",
       "0             1    0.377778            3     0.308527      0.031552  ...   \n",
       "1             1    0.444444           11     0.153020      0.226014  ...   \n",
       "2             1    0.444444           11     0.416675      0.084997  ...   \n",
       "3             1    0.733333           68     0.280370      0.060528  ...   \n",
       "4             1    0.266667           22     0.504328      0.070831  ...   \n",
       "\n",
       "   player1_hand  player1_ht player1_ioc  player1_age  player1_rank  \\\n",
       "0             1    0.488889          23     0.408980      0.071657   \n",
       "1             1    0.222222          50     0.290504      0.088292   \n",
       "2             1    0.488889          59     0.185344      0.065259   \n",
       "3             0    0.444444          42     0.510740      0.067818   \n",
       "4             1    0.488889           3     0.511712      0.046705   \n",
       "\n",
       "   player1_rank_points  best_of  round   minutes  winner  \n",
       "0             0.022744        0      4  0.240181       1  \n",
       "1             0.018130        0      4  0.125378       0  \n",
       "2             0.024628        0      4  0.092145       1  \n",
       "3             0.024043        0      4  0.222054       1  \n",
       "4             0.035220        0      4  0.086103       1  \n",
       "\n",
       "[5 rows x 23 columns]"
      ]
     },
     "execution_count": 26,
     "metadata": {},
     "output_type": "execute_result"
    }
   ],
   "source": [
    "data.head()"
   ]
  },
  {
   "cell_type": "code",
   "execution_count": 27,
   "metadata": {},
   "outputs": [
    {
     "data": {
      "text/plain": [
       "Index(['surface', 'draw-size', 'tourney_level', 'player0_id', 'player0_name',\n",
       "       'player0_hand', 'player0_ht', 'player0_ioc', 'player0_age',\n",
       "       'player0_rank', 'player0_rank_points', 'player1_id', 'player1_name',\n",
       "       'player1_hand', 'player1_ht', 'player1_ioc', 'player1_age',\n",
       "       'player1_rank', 'player1_rank_points', 'best_of', 'round', 'minutes',\n",
       "       'winner'],\n",
       "      dtype='object')"
      ]
     },
     "execution_count": 27,
     "metadata": {},
     "output_type": "execute_result"
    }
   ],
   "source": [
    "data.columns"
   ]
  },
  {
   "cell_type": "code",
   "execution_count": 28,
   "metadata": {},
   "outputs": [],
   "source": [
    "from sklearn.linear_model import LogisticRegression\n",
    "from sklearn.ensemble import RandomForestClassifier\n",
    "from sklearn.tree import DecisionTreeClassifier\n",
    "from sklearn.neighbors import KNeighborsClassifier\n",
    "from sklearn.naive_bayes import GaussianNB\n",
    "\n",
    "from sklearn.metrics import accuracy_score"
   ]
  },
  {
   "cell_type": "code",
   "execution_count": 29,
   "metadata": {},
   "outputs": [],
   "source": [
    "dataset = make_ds(data, train_split=0.8, shuffle=True)"
   ]
  },
  {
   "cell_type": "code",
   "execution_count": 30,
   "metadata": {},
   "outputs": [
    {
     "data": {
      "text/plain": [
       "(28166, 14)"
      ]
     },
     "execution_count": 30,
     "metadata": {},
     "output_type": "execute_result"
    }
   ],
   "source": [
    "dataset[0].shape"
   ]
  },
  {
   "cell_type": "code",
   "execution_count": 31,
   "metadata": {},
   "outputs": [
    {
     "name": "stdout",
     "output_type": "stream",
     "text": [
      "Training model -> LogisticRegression(C=3, max_iter=2500)\n",
      "Train acc: 64.897\n",
      "Test acc: 64.982\n",
      "\n",
      "              precision    recall  f1-score   support\n",
      "\n",
      "           0       0.64      0.64      0.64      3452\n",
      "           1       0.66      0.66      0.66      3590\n",
      "\n",
      "    accuracy                           0.65      7042\n",
      "   macro avg       0.65      0.65      0.65      7042\n",
      "weighted avg       0.65      0.65      0.65      7042\n",
      "\n",
      "================================================================================\n",
      "Training model -> RandomForestClassifier(bootstrap=False, max_depth=40, max_features='sqrt',\n",
      "                       min_samples_split=10, n_estimators=230)\n",
      "Train acc: 100.000\n",
      "Test acc: 87.333\n",
      "\n",
      "              precision    recall  f1-score   support\n",
      "\n",
      "           0       0.86      0.88      0.87      3452\n",
      "           1       0.88      0.87      0.87      3590\n",
      "\n",
      "    accuracy                           0.87      7042\n",
      "   macro avg       0.87      0.87      0.87      7042\n",
      "weighted avg       0.87      0.87      0.87      7042\n",
      "\n",
      "================================================================================\n",
      "Training model -> DecisionTreeClassifier(criterion='entropy', max_depth=40)\n",
      "Train acc: 100.000\n",
      "Test acc: 92.502\n",
      "\n",
      "              precision    recall  f1-score   support\n",
      "\n",
      "           0       0.92      0.92      0.92      3452\n",
      "           1       0.93      0.93      0.93      3590\n",
      "\n",
      "    accuracy                           0.93      7042\n",
      "   macro avg       0.93      0.92      0.92      7042\n",
      "weighted avg       0.93      0.93      0.93      7042\n",
      "\n",
      "================================================================================\n",
      "Training model -> KNeighborsClassifier(leaf_size=10)\n",
      "Train acc: 91.532\n",
      "Test acc: 86.268\n",
      "\n",
      "              precision    recall  f1-score   support\n",
      "\n",
      "           0       0.86      0.87      0.86      3452\n",
      "           1       0.87      0.86      0.86      3590\n",
      "\n",
      "    accuracy                           0.86      7042\n",
      "   macro avg       0.86      0.86      0.86      7042\n",
      "weighted avg       0.86      0.86      0.86      7042\n",
      "\n",
      "================================================================================\n",
      "Training model -> GaussianNB()\n",
      "Train acc: 60.435\n",
      "Test acc: 60.750\n",
      "\n",
      "              precision    recall  f1-score   support\n",
      "\n",
      "           0       0.59      0.64      0.61      3452\n",
      "           1       0.62      0.58      0.60      3590\n",
      "\n",
      "    accuracy                           0.61      7042\n",
      "   macro avg       0.61      0.61      0.61      7042\n",
      "weighted avg       0.61      0.61      0.61      7042\n",
      "\n",
      "================================================================================\n"
     ]
    }
   ],
   "source": [
    "models = [\n",
    "    LogisticRegression(max_iter=2500, C=3),\n",
    "    RandomForestClassifier(n_estimators= 230, min_samples_split= 10, min_samples_leaf= 1, max_features= 'sqrt', max_depth= 40, bootstrap= False),\n",
    "    DecisionTreeClassifier(criterion='entropy', max_depth=40),\n",
    "    KNeighborsClassifier(leaf_size=10, n_neighbors=5),\n",
    "    GaussianNB()\n",
    "]\n",
    "\n",
    "models = train_models(dataset, models)\n",
    "preds = get_preds(dataset, models)"
   ]
  },
  {
   "cell_type": "code",
   "execution_count": 32,
   "metadata": {},
   "outputs": [
    {
     "name": "stderr",
     "output_type": "stream",
     "text": [
      "/home/sparsh/Desktop/Deep-Learning/deep-learning/lib/python3.8/site-packages/sklearn/utils/deprecation.py:87: FutureWarning: Function plot_roc_curve is deprecated; Function `plot_roc_curve` is deprecated in 1.0 and will be removed in 1.2. Use one of the class methods: RocCurveDisplay.from_predictions or RocCurveDisplay.from_estimator.\n",
      "  warnings.warn(msg, category=FutureWarning)\n",
      "/home/sparsh/Desktop/Deep-Learning/deep-learning/lib/python3.8/site-packages/sklearn/utils/deprecation.py:87: FutureWarning: Function plot_roc_curve is deprecated; Function `plot_roc_curve` is deprecated in 1.0 and will be removed in 1.2. Use one of the class methods: RocCurveDisplay.from_predictions or RocCurveDisplay.from_estimator.\n",
      "  warnings.warn(msg, category=FutureWarning)\n",
      "/home/sparsh/Desktop/Deep-Learning/deep-learning/lib/python3.8/site-packages/sklearn/utils/deprecation.py:87: FutureWarning: Function plot_roc_curve is deprecated; Function `plot_roc_curve` is deprecated in 1.0 and will be removed in 1.2. Use one of the class methods: RocCurveDisplay.from_predictions or RocCurveDisplay.from_estimator.\n",
      "  warnings.warn(msg, category=FutureWarning)\n",
      "/home/sparsh/Desktop/Deep-Learning/deep-learning/lib/python3.8/site-packages/sklearn/utils/deprecation.py:87: FutureWarning: Function plot_roc_curve is deprecated; Function `plot_roc_curve` is deprecated in 1.0 and will be removed in 1.2. Use one of the class methods: RocCurveDisplay.from_predictions or RocCurveDisplay.from_estimator.\n",
      "  warnings.warn(msg, category=FutureWarning)\n",
      "/home/sparsh/Desktop/Deep-Learning/deep-learning/lib/python3.8/site-packages/sklearn/utils/deprecation.py:87: FutureWarning: Function plot_roc_curve is deprecated; Function `plot_roc_curve` is deprecated in 1.0 and will be removed in 1.2. Use one of the class methods: RocCurveDisplay.from_predictions or RocCurveDisplay.from_estimator.\n",
      "  warnings.warn(msg, category=FutureWarning)\n"
     ]
    },
    {
     "data": {
      "text/plain": [
       "<Figure size 432x288 with 0 Axes>"
      ]
     },
     "metadata": {},
     "output_type": "display_data"
    },
    {
     "data": {
      "image/png": "[encoded data removed]",
      "text/plain": [
       "<Figure size 432x288 with 1 Axes>"
      ]
     },
     "metadata": {
      "needs_background": "light"
     },
     "output_type": "display_data"
    }
   ],
   "source": [
    "fig = plot_rocs(dataset, models, preds)"
   ]
  },
  {
   "cell_type": "markdown",
   "metadata": {},
   "source": [
    "## Neural Network"
   ]
  },
  {
   "cell_type": "code",
   "execution_count": 33,
   "metadata": {},
   "outputs": [],
   "source": [
    "from tensorflow.keras import layers\n",
    "from tensorflow.keras import Sequential"
   ]
  },
  {
   "cell_type": "code",
   "execution_count": 34,
   "metadata": {},
   "outputs": [
    {
     "name": "stdout",
     "output_type": "stream",
     "text": [
      "Epoch 1/20\n",
      "881/881 [==============================] - 2s 1ms/step - loss: 0.7000 - accuracy: 0.5186 - val_loss: 0.6908 - val_accuracy: 0.5415\n",
      "Epoch 2/20\n",
      "881/881 [==============================] - 1s 1ms/step - loss: 0.6878 - accuracy: 0.5422 - val_loss: 0.6764 - val_accuracy: 0.5805\n",
      "Epoch 3/20\n",
      "881/881 [==============================] - 1s 1ms/step - loss: 0.6694 - accuracy: 0.5880 - val_loss: 0.6613 - val_accuracy: 0.5997\n",
      "Epoch 4/20\n",
      "881/881 [==============================] - 1s 1ms/step - loss: 0.6518 - accuracy: 0.6104 - val_loss: 0.6362 - val_accuracy: 0.6383\n",
      "Epoch 5/20\n",
      "881/881 [==============================] - 1s 1ms/step - loss: 0.6424 - accuracy: 0.6216 - val_loss: 0.6421 - val_accuracy: 0.6227\n",
      "Epoch 6/20\n",
      "881/881 [==============================] - 1s 1ms/step - loss: 0.6365 - accuracy: 0.6288 - val_loss: 0.6312 - val_accuracy: 0.6379\n",
      "Epoch 7/20\n",
      "881/881 [==============================] - 1s 1ms/step - loss: 0.6319 - accuracy: 0.6369 - val_loss: 0.6227 - val_accuracy: 0.6501\n",
      "Epoch 8/20\n",
      "881/881 [==============================] - 1s 1ms/step - loss: 0.6317 - accuracy: 0.6388 - val_loss: 0.6252 - val_accuracy: 0.6436\n",
      "Epoch 9/20\n",
      "881/881 [==============================] - 1s 1ms/step - loss: 0.6305 - accuracy: 0.6401 - val_loss: 0.6492 - val_accuracy: 0.6075\n",
      "Epoch 10/20\n",
      "881/881 [==============================] - 1s 1ms/step - loss: 0.6292 - accuracy: 0.6404 - val_loss: 0.6196 - val_accuracy: 0.6541\n",
      "Epoch 11/20\n",
      "881/881 [==============================] - 1s 1ms/step - loss: 0.6263 - accuracy: 0.6458 - val_loss: 0.6403 - val_accuracy: 0.6243\n",
      "Epoch 12/20\n",
      "881/881 [==============================] - 1s 1ms/step - loss: 0.6249 - accuracy: 0.6473 - val_loss: 0.6339 - val_accuracy: 0.6284\n",
      "Epoch 13/20\n",
      "881/881 [==============================] - 1s 1ms/step - loss: 0.6254 - accuracy: 0.6443 - val_loss: 0.6301 - val_accuracy: 0.6342\n",
      "Epoch 14/20\n",
      "881/881 [==============================] - 1s 1ms/step - loss: 0.6234 - accuracy: 0.6458 - val_loss: 0.6200 - val_accuracy: 0.6544\n",
      "Epoch 15/20\n",
      "881/881 [==============================] - 1s 1ms/step - loss: 0.6219 - accuracy: 0.6476 - val_loss: 0.6239 - val_accuracy: 0.6414\n",
      "Epoch 16/20\n",
      "881/881 [==============================] - 1s 1ms/step - loss: 0.6219 - accuracy: 0.6460 - val_loss: 0.6161 - val_accuracy: 0.6514\n",
      "Epoch 17/20\n",
      "881/881 [==============================] - 1s 1ms/step - loss: 0.6221 - accuracy: 0.6476 - val_loss: 0.6210 - val_accuracy: 0.6498\n",
      "Epoch 18/20\n",
      "881/881 [==============================] - 1s 1ms/step - loss: 0.6180 - accuracy: 0.6521 - val_loss: 0.6195 - val_accuracy: 0.6453\n",
      "Epoch 19/20\n",
      "881/881 [==============================] - 1s 1ms/step - loss: 0.6180 - accuracy: 0.6498 - val_loss: 0.6188 - val_accuracy: 0.6501\n",
      "Epoch 20/20\n",
      "881/881 [==============================] - 1s 1ms/step - loss: 0.6160 - accuracy: 0.6536 - val_loss: 0.6276 - val_accuracy: 0.6402\n",
      "221/221 [==============================] - 0s 996us/step - loss: 0.6276 - accuracy: 0.6402\n"
     ]
    }
   ],
   "source": [
    "nn = Sequential([\n",
    "    layers.Dense(16, activation='relu', input_shape=(14, )),\n",
    "    layers.Dense(32, activation='relu'),\n",
    "    # layers.Dense(64, activation='relu'),\n",
    "    layers.Dense(32, activation='relu'),\n",
    "    layers.Dense(1, activation='sigmoid')\n",
    "])\n",
    "nn.compile(\n",
    "    optimizer='adam',\n",
    "    loss='binary_crossentropy',\n",
    "    metrics=['accuracy']\n",
    ")\n",
    "nn.fit(dataset[0], dataset[2], epochs=20, validation_data=(dataset[1], dataset[3]))\n",
    "loss, nn_acc = nn.evaluate(dataset[1], dataset[3])"
   ]
  },
  {
   "cell_type": "code",
   "execution_count": 35,
   "metadata": {},
   "outputs": [
    {
     "data": {
      "text/plain": [
       "(0.6276129484176636, 0.6401590704917908)"
      ]
     },
     "execution_count": 35,
     "metadata": {},
     "output_type": "execute_result"
    }
   ],
   "source": [
    "loss, nn_acc"
   ]
  },
  {
   "cell_type": "code",
   "execution_count": 36,
   "metadata": {},
   "outputs": [
    {
     "data": {
      "text/plain": [
       "<matplotlib.legend.Legend at 0x7f872024be20>"
      ]
     },
     "execution_count": 36,
     "metadata": {},
     "output_type": "execute_result"
    },
    {
     "data": {
      "image/png": "[encoded data removed]",
      "text/plain": [
       "<Figure size 432x288 with 1 Axes>"
      ]
     },
     "metadata": {
      "needs_background": "light"
     },
     "output_type": "display_data"
    }
   ],
   "source": [
    "from sklearn.metrics import roc_curve, roc_auc_score\n",
    "import matplotlib.pyplot as plt\n",
    "plt.figure()\n",
    "pr = nn.predict(dataset[1])\n",
    "fpr, tpr, _ = roc_curve(dataset[3], pr)\n",
    "auc = roc_auc_score(dataset[3], pr)\n",
    "plt.plot(fpr,tpr, label='Neural Network auc=%.3f' % (100*auc))\n",
    "plt.xlabel('False Postive Rate (Positive label: 1)')\n",
    "plt.ylabel('True Postive Rate (Positive label: 1)')\n",
    "plt.legend(loc='lower right')"
   ]
  },
  {
   "cell_type": "code",
   "execution_count": 37,
   "metadata": {},
   "outputs": [
    {
     "data": {
      "image/png": "[encoded data removed]",
      "text/plain": [
       "<Figure size 432x288 with 1 Axes>"
      ]
     },
     "metadata": {
      "needs_background": "light"
     },
     "output_type": "display_data"
    }
   ],
   "source": [
    "acc = [model.score(dataset[1], dataset[3]) for model in models]\n",
    "plot_bar('Accuracy Scores', models, acc, ['Neural Network'], nn_acc)"
   ]
  },
  {
   "cell_type": "code",
   "execution_count": 38,
   "metadata": {},
   "outputs": [
    {
     "data": {
      "image/png": "[encoded data removed]",
      "text/plain": [
       "<Figure size 432x288 with 1 Axes>"
      ]
     },
     "metadata": {
      "needs_background": "light"
     },
     "output_type": "display_data"
    }
   ],
   "source": [
    "nn_auc = roc_auc_score(dataset[3], nn.predict(dataset[1]))\n",
    "auc = [roc_auc_score(dataset[3], model.predict(dataset[1])) for model in models]\n",
    "plot_bar('AUC Scores', models, auc, ['Neural Network'], nn_auc)"
   ]
  },
  {
   "cell_type": "code",
   "execution_count": 39,
   "metadata": {},
   "outputs": [
    {
     "data": {
      "text/plain": [
       "0.871343368361261"
      ]
     },
     "execution_count": 39,
     "metadata": {},
     "output_type": "execute_result"
    }
   ],
   "source": [
    "hv_preds = hard_voting(get_preds(dataset, models))\n",
    "hv_acc = accuracy_score(hv_preds, dataset[3])\n",
    "hv_acc"
   ]
  },
  {
   "cell_type": "code",
   "execution_count": 40,
   "metadata": {},
   "outputs": [
    {
     "data": {
      "image/png": "[encoded data removed]",
      "text/plain": [
       "<Figure size 432x288 with 1 Axes>"
      ]
     },
     "metadata": {
      "needs_background": "light"
     },
     "output_type": "display_data"
    }
   ],
   "source": [
    "plot_bar('Accuracy Scores', models, acc, ['Neural Network', 'Ensemble'], [nn_acc, hv_acc])"
   ]
  },
  {
   "cell_type": "code",
   "execution_count": 41,
   "metadata": {},
   "outputs": [
    {
     "data": {
      "image/png": "[encoded data removed]",
      "text/plain": [
       "<Figure size 432x288 with 1 Axes>"
      ]
     },
     "metadata": {
      "needs_background": "light"
     },
     "output_type": "display_data"
    }
   ],
   "source": [
    "hv_auc = roc_auc_score(dataset[3], hv_preds)\n",
    "auc = [roc_auc_score(dataset[3], model.predict(dataset[1])) for model in models]\n",
    "plot_bar('AUC Scores', models, auc, ['Neural Network', 'Ensemble'], [nn_auc, hv_auc])"
   ]
  },
  {
   "cell_type": "code",
   "execution_count": null,
   "metadata": {},
   "outputs": [],
   "source": []
  },
  {
   "cell_type": "code",
   "execution_count": null,
   "metadata": {},
   "outputs": [],
   "source": []
  },
  {
   "cell_type": "code",
   "execution_count": 42,
   "metadata": {},
   "outputs": [
    {
     "ename": "NameError",
     "evalue": "name 'prin' is not defined",
     "output_type": "error",
     "traceback": [
      "\u001b[0;31m---------------------------------------------------------------------------\u001b[0m",
      "\u001b[0;31mNameError\u001b[0m                                 Traceback (most recent call last)",
      "\u001b[0;32m/tmp/ipykernel_17731/2538804868.py\u001b[0m in \u001b[0;36m<module>\u001b[0;34m\u001b[0m\n\u001b[0;32m----> 1\u001b[0;31m \u001b[0mprin\u001b[0m\u001b[0;34m\u001b[0m\u001b[0;34m\u001b[0m\u001b[0m\n\u001b[0m",
      "\u001b[0;31mNameError\u001b[0m: name 'prin' is not defined"
     ]
    }
   ],
   "source": [
    "prin"
   ]
  },
  {
   "cell_type": "markdown",
   "metadata": {},
   "source": [
    "### Test Data"
   ]
  },
  {
   "cell_type": "code",
   "execution_count": null,
   "metadata": {},
   "outputs": [
    {
     "data": {
      "text/html": [
       "<div>\n",
       "<style scoped>\n",
       "    .dataframe tbody tr th:only-of-type {\n",
       "        vertical-align: middle;\n",
       "    }\n",
       "\n",
       "    .dataframe tbody tr th {\n",
       "        vertical-align: top;\n",
       "    }\n",
       "\n",
       "    .dataframe thead th {\n",
       "        text-align: right;\n",
       "    }\n",
       "</style>\n",
       "<table border=\"1\" class=\"dataframe\">\n",
       "  <thead>\n",
       "    <tr style=\"text-align: right;\">\n",
       "      <th></th>\n",
       "      <th>surface</th>\n",
       "      <th>draw-size</th>\n",
       "      <th>tourney_level</th>\n",
       "      <th>player0_id</th>\n",
       "      <th>player0_name</th>\n",
       "      <th>player0_hand</th>\n",
       "      <th>player0_ht</th>\n",
       "      <th>player0_ioc</th>\n",
       "      <th>player0_age</th>\n",
       "      <th>player0_rank</th>\n",
       "      <th>...</th>\n",
       "      <th>player1_hand</th>\n",
       "      <th>player1_ht</th>\n",
       "      <th>player1_ioc</th>\n",
       "      <th>player1_age</th>\n",
       "      <th>player1_rank</th>\n",
       "      <th>player1_rank_points</th>\n",
       "      <th>best_of</th>\n",
       "      <th>round</th>\n",
       "      <th>minutes</th>\n",
       "      <th>winner</th>\n",
       "    </tr>\n",
       "  </thead>\n",
       "  <tbody>\n",
       "    <tr>\n",
       "      <th>0</th>\n",
       "      <td>0</td>\n",
       "      <td>1</td>\n",
       "      <td>0</td>\n",
       "      <td>104919</td>\n",
       "      <td>Leonardo Mayer</td>\n",
       "      <td>1</td>\n",
       "      <td>0.555556</td>\n",
       "      <td>1</td>\n",
       "      <td>0.360270</td>\n",
       "      <td>0.072233</td>\n",
       "      <td>...</td>\n",
       "      <td>0</td>\n",
       "      <td>0.888889</td>\n",
       "      <td>22</td>\n",
       "      <td>0.365854</td>\n",
       "      <td>0.080378</td>\n",
       "      <td>0.049485</td>\n",
       "      <td>0</td>\n",
       "      <td>4</td>\n",
       "      <td>0.268456</td>\n",
       "      <td>0</td>\n",
       "    </tr>\n",
       "    <tr>\n",
       "      <th>3</th>\n",
       "      <td>0</td>\n",
       "      <td>1</td>\n",
       "      <td>0</td>\n",
       "      <td>105064</td>\n",
       "      <td>Thomaz Bellucci</td>\n",
       "      <td>0</td>\n",
       "      <td>0.555556</td>\n",
       "      <td>6</td>\n",
       "      <td>0.322581</td>\n",
       "      <td>0.106942</td>\n",
       "      <td>...</td>\n",
       "      <td>1</td>\n",
       "      <td>0.555556</td>\n",
       "      <td>15</td>\n",
       "      <td>0.610597</td>\n",
       "      <td>0.083924</td>\n",
       "      <td>0.047352</td>\n",
       "      <td>0</td>\n",
       "      <td>4</td>\n",
       "      <td>0.560403</td>\n",
       "      <td>1</td>\n",
       "    </tr>\n",
       "    <tr>\n",
       "      <th>4</th>\n",
       "      <td>0</td>\n",
       "      <td>1</td>\n",
       "      <td>0</td>\n",
       "      <td>104898</td>\n",
       "      <td>Robin Haase</td>\n",
       "      <td>1</td>\n",
       "      <td>0.600000</td>\n",
       "      <td>30</td>\n",
       "      <td>0.366689</td>\n",
       "      <td>0.062852</td>\n",
       "      <td>...</td>\n",
       "      <td>1</td>\n",
       "      <td>0.555556</td>\n",
       "      <td>22</td>\n",
       "      <td>0.182002</td>\n",
       "      <td>0.112293</td>\n",
       "      <td>0.038891</td>\n",
       "      <td>0</td>\n",
       "      <td>4</td>\n",
       "      <td>0.355705</td>\n",
       "      <td>0</td>\n",
       "    </tr>\n",
       "    <tr>\n",
       "      <th>5</th>\n",
       "      <td>0</td>\n",
       "      <td>1</td>\n",
       "      <td>0</td>\n",
       "      <td>104978</td>\n",
       "      <td>Daniel Brands</td>\n",
       "      <td>1</td>\n",
       "      <td>0.733333</td>\n",
       "      <td>20</td>\n",
       "      <td>0.349901</td>\n",
       "      <td>0.047842</td>\n",
       "      <td>...</td>\n",
       "      <td>1</td>\n",
       "      <td>0.444444</td>\n",
       "      <td>1</td>\n",
       "      <td>0.630950</td>\n",
       "      <td>0.049645</td>\n",
       "      <td>0.063989</td>\n",
       "      <td>0</td>\n",
       "      <td>4</td>\n",
       "      <td>0.379195</td>\n",
       "      <td>0</td>\n",
       "    </tr>\n",
       "    <tr>\n",
       "      <th>6</th>\n",
       "      <td>0</td>\n",
       "      <td>1</td>\n",
       "      <td>0</td>\n",
       "      <td>103656</td>\n",
       "      <td>Albert Montanes</td>\n",
       "      <td>1</td>\n",
       "      <td>0.266667</td>\n",
       "      <td>15</td>\n",
       "      <td>0.748848</td>\n",
       "      <td>0.041276</td>\n",
       "      <td>...</td>\n",
       "      <td>1</td>\n",
       "      <td>0.333333</td>\n",
       "      <td>38</td>\n",
       "      <td>0.509504</td>\n",
       "      <td>0.107565</td>\n",
       "      <td>0.040313</td>\n",
       "      <td>0</td>\n",
       "      <td>4</td>\n",
       "      <td>0.224832</td>\n",
       "      <td>0</td>\n",
       "    </tr>\n",
       "    <tr>\n",
       "      <th>...</th>\n",
       "      <td>...</td>\n",
       "      <td>...</td>\n",
       "      <td>...</td>\n",
       "      <td>...</td>\n",
       "      <td>...</td>\n",
       "      <td>...</td>\n",
       "      <td>...</td>\n",
       "      <td>...</td>\n",
       "      <td>...</td>\n",
       "      <td>...</td>\n",
       "      <td>...</td>\n",
       "      <td>...</td>\n",
       "      <td>...</td>\n",
       "      <td>...</td>\n",
       "      <td>...</td>\n",
       "      <td>...</td>\n",
       "      <td>...</td>\n",
       "      <td>...</td>\n",
       "      <td>...</td>\n",
       "      <td>...</td>\n",
       "      <td>...</td>\n",
       "    </tr>\n",
       "    <tr>\n",
       "      <th>2610</th>\n",
       "      <td>0</td>\n",
       "      <td>6</td>\n",
       "      <td>2</td>\n",
       "      <td>105453</td>\n",
       "      <td>Kei Nishikori</td>\n",
       "      <td>1</td>\n",
       "      <td>0.333333</td>\n",
       "      <td>28</td>\n",
       "      <td>0.311883</td>\n",
       "      <td>0.003752</td>\n",
       "      <td>...</td>\n",
       "      <td>1</td>\n",
       "      <td>0.555556</td>\n",
       "      <td>18</td>\n",
       "      <td>0.607569</td>\n",
       "      <td>0.016548</td>\n",
       "      <td>0.143974</td>\n",
       "      <td>1</td>\n",
       "      <td>1</td>\n",
       "      <td>0.741611</td>\n",
       "      <td>1</td>\n",
       "    </tr>\n",
       "    <tr>\n",
       "      <th>2611</th>\n",
       "      <td>0</td>\n",
       "      <td>6</td>\n",
       "      <td>2</td>\n",
       "      <td>103819</td>\n",
       "      <td>Roger Federer</td>\n",
       "      <td>1</td>\n",
       "      <td>0.488889</td>\n",
       "      <td>43</td>\n",
       "      <td>0.816327</td>\n",
       "      <td>0.000938</td>\n",
       "      <td>...</td>\n",
       "      <td>1</td>\n",
       "      <td>0.444444</td>\n",
       "      <td>38</td>\n",
       "      <td>0.610934</td>\n",
       "      <td>0.009456</td>\n",
       "      <td>0.271952</td>\n",
       "      <td>1</td>\n",
       "      <td>1</td>\n",
       "      <td>0.419463</td>\n",
       "      <td>1</td>\n",
       "    </tr>\n",
       "    <tr>\n",
       "      <th>2612</th>\n",
       "      <td>0</td>\n",
       "      <td>6</td>\n",
       "      <td>2</td>\n",
       "      <td>104925</td>\n",
       "      <td>Novak Djokovic</td>\n",
       "      <td>1</td>\n",
       "      <td>0.555556</td>\n",
       "      <td>37</td>\n",
       "      <td>0.468565</td>\n",
       "      <td>0.000000</td>\n",
       "      <td>...</td>\n",
       "      <td>1</td>\n",
       "      <td>0.600000</td>\n",
       "      <td>23</td>\n",
       "      <td>0.480067</td>\n",
       "      <td>0.002364</td>\n",
       "      <td>0.499111</td>\n",
       "      <td>1</td>\n",
       "      <td>7</td>\n",
       "      <td>0.822148</td>\n",
       "      <td>0</td>\n",
       "    </tr>\n",
       "    <tr>\n",
       "      <th>2613</th>\n",
       "      <td>0</td>\n",
       "      <td>6</td>\n",
       "      <td>2</td>\n",
       "      <td>104527</td>\n",
       "      <td>Stanislas Wawrinka</td>\n",
       "      <td>1</td>\n",
       "      <td>0.444444</td>\n",
       "      <td>38</td>\n",
       "      <td>0.597762</td>\n",
       "      <td>0.007505</td>\n",
       "      <td>...</td>\n",
       "      <td>1</td>\n",
       "      <td>0.555556</td>\n",
       "      <td>22</td>\n",
       "      <td>0.607569</td>\n",
       "      <td>0.016548</td>\n",
       "      <td>0.143974</td>\n",
       "      <td>1</td>\n",
       "      <td>7</td>\n",
       "      <td>0.744966</td>\n",
       "      <td>0</td>\n",
       "    </tr>\n",
       "    <tr>\n",
       "      <th>2614</th>\n",
       "      <td>0</td>\n",
       "      <td>6</td>\n",
       "      <td>2</td>\n",
       "      <td>104925</td>\n",
       "      <td>Novak Djokovic</td>\n",
       "      <td>1</td>\n",
       "      <td>0.555556</td>\n",
       "      <td>42</td>\n",
       "      <td>0.468565</td>\n",
       "      <td>0.000000</td>\n",
       "      <td>...</td>\n",
       "      <td>1</td>\n",
       "      <td>0.444444</td>\n",
       "      <td>38</td>\n",
       "      <td>0.610934</td>\n",
       "      <td>0.009456</td>\n",
       "      <td>0.271952</td>\n",
       "      <td>1</td>\n",
       "      <td>0</td>\n",
       "      <td>0.630872</td>\n",
       "      <td>1</td>\n",
       "    </tr>\n",
       "  </tbody>\n",
       "</table>\n",
       "<p>5205 rows × 23 columns</p>\n",
       "</div>"
      ],
      "text/plain": [
       "      surface  draw-size  tourney_level  player0_id        player0_name  \\\n",
       "0           0          1              0      104919      Leonardo Mayer   \n",
       "3           0          1              0      105064     Thomaz Bellucci   \n",
       "4           0          1              0      104898         Robin Haase   \n",
       "5           0          1              0      104978       Daniel Brands   \n",
       "6           0          1              0      103656     Albert Montanes   \n",
       "...       ...        ...            ...         ...                 ...   \n",
       "2610        0          6              2      105453       Kei Nishikori   \n",
       "2611        0          6              2      103819       Roger Federer   \n",
       "2612        0          6              2      104925      Novak Djokovic   \n",
       "2613        0          6              2      104527  Stanislas Wawrinka   \n",
       "2614        0          6              2      104925      Novak Djokovic   \n",
       "\n",
       "      player0_hand  player0_ht  player0_ioc  player0_age  player0_rank  ...  \\\n",
       "0                1    0.555556            1     0.360270      0.072233  ...   \n",
       "3                0    0.555556            6     0.322581      0.106942  ...   \n",
       "4                1    0.600000           30     0.366689      0.062852  ...   \n",
       "5                1    0.733333           20     0.349901      0.047842  ...   \n",
       "6                1    0.266667           15     0.748848      0.041276  ...   \n",
       "...            ...         ...          ...          ...           ...  ...   \n",
       "2610             1    0.333333           28     0.311883      0.003752  ...   \n",
       "2611             1    0.488889           43     0.816327      0.000938  ...   \n",
       "2612             1    0.555556           37     0.468565      0.000000  ...   \n",
       "2613             1    0.444444           38     0.597762      0.007505  ...   \n",
       "2614             1    0.555556           42     0.468565      0.000000  ...   \n",
       "\n",
       "      player1_hand  player1_ht player1_ioc  player1_age  player1_rank  \\\n",
       "0                0    0.888889          22     0.365854      0.080378   \n",
       "3                1    0.555556          15     0.610597      0.083924   \n",
       "4                1    0.555556          22     0.182002      0.112293   \n",
       "5                1    0.444444           1     0.630950      0.049645   \n",
       "6                1    0.333333          38     0.509504      0.107565   \n",
       "...            ...         ...         ...          ...           ...   \n",
       "2610             1    0.555556          18     0.607569      0.016548   \n",
       "2611             1    0.444444          38     0.610934      0.009456   \n",
       "2612             1    0.600000          23     0.480067      0.002364   \n",
       "2613             1    0.555556          22     0.607569      0.016548   \n",
       "2614             1    0.444444          38     0.610934      0.009456   \n",
       "\n",
       "      player1_rank_points  best_of  round   minutes  winner  \n",
       "0                0.049485        0      4  0.268456       0  \n",
       "3                0.047352        0      4  0.560403       1  \n",
       "4                0.038891        0      4  0.355705       0  \n",
       "5                0.063989        0      4  0.379195       0  \n",
       "6                0.040313        0      4  0.224832       0  \n",
       "...                   ...      ...    ...       ...     ...  \n",
       "2610             0.143974        1      1  0.741611       1  \n",
       "2611             0.271952        1      1  0.419463       1  \n",
       "2612             0.499111        1      7  0.822148       0  \n",
       "2613             0.143974        1      7  0.744966       0  \n",
       "2614             0.271952        1      0  0.630872       1  \n",
       "\n",
       "[5205 rows x 23 columns]"
      ]
     },
     "execution_count": 81,
     "metadata": {},
     "output_type": "execute_result"
    }
   ],
   "source": [
    "test_data = pd.read_csv('test_2013_2015.csv')\n",
    "test_data"
   ]
  },
  {
   "cell_type": "code",
   "execution_count": null,
   "metadata": {},
   "outputs": [
    {
     "data": {
      "text/plain": [
       "(5205, 16)"
      ]
     },
     "execution_count": 82,
     "metadata": {},
     "output_type": "execute_result"
    }
   ],
   "source": [
    "test_ds = make_ds(test_data, 1)\n",
    "test_ds[0].shape"
   ]
  },
  {
   "cell_type": "code",
   "execution_count": null,
   "metadata": {},
   "outputs": [
    {
     "data": {
      "text/plain": [
       "0.6234390009606148"
      ]
     },
     "execution_count": 83,
     "metadata": {},
     "output_type": "execute_result"
    }
   ],
   "source": [
    "accuracy_score(models[1].predict(test_ds[0]), test_ds[2])"
   ]
  },
  {
   "cell_type": "code",
   "execution_count": null,
   "metadata": {},
   "outputs": [
    {
     "name": "stdout",
     "output_type": "stream",
     "text": [
      "163/163 [==============================] - 0s 794us/step - loss: 0.5955 - accuracy: 0.6770\n"
     ]
    },
    {
     "data": {
      "text/plain": [
       "[0.5954753756523132, 0.6770412921905518]"
      ]
     },
     "execution_count": 84,
     "metadata": {},
     "output_type": "execute_result"
    }
   ],
   "source": [
    "nn.evaluate(test_ds[0], test_ds[2])"
   ]
  },
  {
   "cell_type": "code",
   "execution_count": null,
   "metadata": {},
   "outputs": [],
   "source": []
  }
 ],
 "metadata": {
  "interpreter": {
   "hash": "63ad576a4a5f887c15393daadea6f3e95b7987dc19552031f6f5612ffed50760"
  },
  "kernelspec": {
   "display_name": "Python 3.7.7 64-bit (system)",
   "name": "python3"
  },
  "language_info": {
   "codemirror_mode": {
    "name": "ipython",
    "version": 3
   },
   "file_extension": ".py",
   "mimetype": "text/x-python",
   "name": "python",
   "nbconvert_exporter": "python",
   "pygments_lexer": "ipython3",
   "version": "3.8.10"
  },
  "orig_nbformat": 4
 },
 "nbformat": 4,
 "nbformat_minor": 2
}
