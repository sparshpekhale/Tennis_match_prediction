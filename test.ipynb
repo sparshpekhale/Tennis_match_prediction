{
 "cells": [
  {
   "cell_type": "code",
   "execution_count": 1,
   "metadata": {},
   "outputs": [],
   "source": [
    "import os\n",
    "import pandas as pd\n",
    "\n",
    "from preprocessing import data_preprocess\n",
    "from models import make_ds, train_models, plot_rocs, get_preds, get_probas, plot_bar, hard_voting, soft_voting"
   ]
  },
  {
   "cell_type": "code",
   "execution_count": 2,
   "metadata": {},
   "outputs": [
    {
     "data": {
      "text/plain": [
       "['.~lock.atp_matches_2000.csv#',\n",
       " 'atp_matches_2000.csv',\n",
       " 'atp_matches_2001.csv',\n",
       " 'atp_matches_2002.csv',\n",
       " 'atp_matches_2003.csv',\n",
       " 'atp_matches_2004.csv',\n",
       " 'atp_matches_2005.csv',\n",
       " 'atp_matches_2006.csv',\n",
       " 'atp_matches_2007.csv',\n",
       " 'atp_matches_2008.csv',\n",
       " 'atp_matches_2009.csv',\n",
       " 'atp_matches_2010.csv',\n",
       " 'atp_matches_2011.csv',\n",
       " 'atp_matches_2012.csv',\n",
       " 'atp_matches_2013.csv',\n",
       " 'atp_matches_2014.csv',\n",
       " 'atp_matches_2015.csv']"
      ]
     },
     "execution_count": 2,
     "metadata": {},
     "output_type": "execute_result"
    }
   ],
   "source": [
    "dir = 'archive/'\n",
    "files = sorted(os.listdir(dir))\n",
    "files"
   ]
  },
  {
   "cell_type": "code",
   "execution_count": 3,
   "metadata": {},
   "outputs": [],
   "source": [
    "# # Make train_val set\n",
    "# train_val_data = pd.concat([pd.read_csv(dir+file) for file in files[:-3]])\n",
    "# test_data = pd.concat([pd.read_csv(dir+file) for file in files[-3:]])\n",
    "\n",
    "# # Preprocess and save train_val and test sets\n",
    "# data_preprocess(train_val_data).to_csv('train_val_2000_2012.csv', index_label=False)\n",
    "# data_preprocess(test_data).to_csv('test_2013_2015.csv', index_label=False)"
   ]
  },
  {
   "cell_type": "code",
   "execution_count": 4,
   "metadata": {},
   "outputs": [
    {
     "data": {
      "text/plain": [
       "(35208, 23)"
      ]
     },
     "execution_count": 4,
     "metadata": {},
     "output_type": "execute_result"
    }
   ],
   "source": [
    "# data = data_preprocess(pd.read_csv('archive/atp_matches_2004.csv'))\n",
    "data = pd.read_csv('train_val_2000_2012.csv')\n",
    "data.shape"
   ]
  },
  {
   "cell_type": "code",
   "execution_count": 5,
   "metadata": {},
   "outputs": [
    {
     "data": {
      "text/html": [
       "<div>\n",
       "<style scoped>\n",
       "    .dataframe tbody tr th:only-of-type {\n",
       "        vertical-align: middle;\n",
       "    }\n",
       "\n",
       "    .dataframe tbody tr th {\n",
       "        vertical-align: top;\n",
       "    }\n",
       "\n",
       "    .dataframe thead th {\n",
       "        text-align: right;\n",
       "    }\n",
       "</style>\n",
       "<table border=\"1\" class=\"dataframe\">\n",
       "  <thead>\n",
       "    <tr style=\"text-align: right;\">\n",
       "      <th></th>\n",
       "      <th>surface</th>\n",
       "      <th>draw-size</th>\n",
       "      <th>tourney_level</th>\n",
       "      <th>player0_id</th>\n",
       "      <th>player0_name</th>\n",
       "      <th>player0_hand</th>\n",
       "      <th>player0_ht</th>\n",
       "      <th>player0_ioc</th>\n",
       "      <th>player0_age</th>\n",
       "      <th>player0_rank</th>\n",
       "      <th>...</th>\n",
       "      <th>player1_hand</th>\n",
       "      <th>player1_ht</th>\n",
       "      <th>player1_ioc</th>\n",
       "      <th>player1_age</th>\n",
       "      <th>player1_rank</th>\n",
       "      <th>player1_rank_points</th>\n",
       "      <th>best_of</th>\n",
       "      <th>round</th>\n",
       "      <th>minutes</th>\n",
       "      <th>winner</th>\n",
       "    </tr>\n",
       "  </thead>\n",
       "  <tbody>\n",
       "    <tr>\n",
       "      <th>0</th>\n",
       "      <td>1</td>\n",
       "      <td>3</td>\n",
       "      <td>0</td>\n",
       "      <td>102776</td>\n",
       "      <td>Andrew Ilie</td>\n",
       "      <td>1</td>\n",
       "      <td>0.377778</td>\n",
       "      <td>3</td>\n",
       "      <td>0.308527</td>\n",
       "      <td>0.031552</td>\n",
       "      <td>...</td>\n",
       "      <td>1</td>\n",
       "      <td>0.488889</td>\n",
       "      <td>23</td>\n",
       "      <td>0.408980</td>\n",
       "      <td>0.071657</td>\n",
       "      <td>0.022744</td>\n",
       "      <td>0</td>\n",
       "      <td>4</td>\n",
       "      <td>0.240181</td>\n",
       "      <td>1</td>\n",
       "    </tr>\n",
       "    <tr>\n",
       "      <th>1</th>\n",
       "      <td>1</td>\n",
       "      <td>3</td>\n",
       "      <td>0</td>\n",
       "      <td>103602</td>\n",
       "      <td>Fernando Gonzalez</td>\n",
       "      <td>1</td>\n",
       "      <td>0.444444</td>\n",
       "      <td>11</td>\n",
       "      <td>0.153020</td>\n",
       "      <td>0.226014</td>\n",
       "      <td>...</td>\n",
       "      <td>1</td>\n",
       "      <td>0.222222</td>\n",
       "      <td>50</td>\n",
       "      <td>0.290504</td>\n",
       "      <td>0.088292</td>\n",
       "      <td>0.018130</td>\n",
       "      <td>0</td>\n",
       "      <td>4</td>\n",
       "      <td>0.125378</td>\n",
       "      <td>0</td>\n",
       "    </tr>\n",
       "    <tr>\n",
       "      <th>2</th>\n",
       "      <td>1</td>\n",
       "      <td>3</td>\n",
       "      <td>0</td>\n",
       "      <td>102205</td>\n",
       "      <td>Sebastien Lareau</td>\n",
       "      <td>1</td>\n",
       "      <td>0.444444</td>\n",
       "      <td>11</td>\n",
       "      <td>0.416675</td>\n",
       "      <td>0.084997</td>\n",
       "      <td>...</td>\n",
       "      <td>1</td>\n",
       "      <td>0.488889</td>\n",
       "      <td>59</td>\n",
       "      <td>0.185344</td>\n",
       "      <td>0.065259</td>\n",
       "      <td>0.024628</td>\n",
       "      <td>0</td>\n",
       "      <td>4</td>\n",
       "      <td>0.092145</td>\n",
       "      <td>1</td>\n",
       "    </tr>\n",
       "    <tr>\n",
       "      <th>3</th>\n",
       "      <td>1</td>\n",
       "      <td>3</td>\n",
       "      <td>0</td>\n",
       "      <td>102925</td>\n",
       "      <td>Justin Gimelstob</td>\n",
       "      <td>1</td>\n",
       "      <td>0.733333</td>\n",
       "      <td>68</td>\n",
       "      <td>0.280370</td>\n",
       "      <td>0.060528</td>\n",
       "      <td>...</td>\n",
       "      <td>0</td>\n",
       "      <td>0.444444</td>\n",
       "      <td>42</td>\n",
       "      <td>0.510740</td>\n",
       "      <td>0.067818</td>\n",
       "      <td>0.024043</td>\n",
       "      <td>0</td>\n",
       "      <td>4</td>\n",
       "      <td>0.222054</td>\n",
       "      <td>1</td>\n",
       "    </tr>\n",
       "    <tr>\n",
       "      <th>4</th>\n",
       "      <td>1</td>\n",
       "      <td>3</td>\n",
       "      <td>0</td>\n",
       "      <td>101826</td>\n",
       "      <td>Alex Lopez Moron</td>\n",
       "      <td>1</td>\n",
       "      <td>0.266667</td>\n",
       "      <td>22</td>\n",
       "      <td>0.504328</td>\n",
       "      <td>0.070831</td>\n",
       "      <td>...</td>\n",
       "      <td>1</td>\n",
       "      <td>0.488889</td>\n",
       "      <td>3</td>\n",
       "      <td>0.511712</td>\n",
       "      <td>0.046705</td>\n",
       "      <td>0.035220</td>\n",
       "      <td>0</td>\n",
       "      <td>4</td>\n",
       "      <td>0.086103</td>\n",
       "      <td>1</td>\n",
       "    </tr>\n",
       "  </tbody>\n",
       "</table>\n",
       "<p>5 rows × 23 columns</p>\n",
       "</div>"
      ],
      "text/plain": [
       "   surface  draw-size  tourney_level  player0_id       player0_name  \\\n",
       "0        1          3              0      102776        Andrew Ilie   \n",
       "1        1          3              0      103602  Fernando Gonzalez   \n",
       "2        1          3              0      102205   Sebastien Lareau   \n",
       "3        1          3              0      102925   Justin Gimelstob   \n",
       "4        1          3              0      101826   Alex Lopez Moron   \n",
       "\n",
       "   player0_hand  player0_ht  player0_ioc  player0_age  player0_rank  ...  \\\n",
       "0             1    0.377778            3     0.308527      0.031552  ...   \n",
       "1             1    0.444444           11     0.153020      0.226014  ...   \n",
       "2             1    0.444444           11     0.416675      0.084997  ...   \n",
       "3             1    0.733333           68     0.280370      0.060528  ...   \n",
       "4             1    0.266667           22     0.504328      0.070831  ...   \n",
       "\n",
       "   player1_hand  player1_ht player1_ioc  player1_age  player1_rank  \\\n",
       "0             1    0.488889          23     0.408980      0.071657   \n",
       "1             1    0.222222          50     0.290504      0.088292   \n",
       "2             1    0.488889          59     0.185344      0.065259   \n",
       "3             0    0.444444          42     0.510740      0.067818   \n",
       "4             1    0.488889           3     0.511712      0.046705   \n",
       "\n",
       "   player1_rank_points  best_of  round   minutes  winner  \n",
       "0             0.022744        0      4  0.240181       1  \n",
       "1             0.018130        0      4  0.125378       0  \n",
       "2             0.024628        0      4  0.092145       1  \n",
       "3             0.024043        0      4  0.222054       1  \n",
       "4             0.035220        0      4  0.086103       1  \n",
       "\n",
       "[5 rows x 23 columns]"
      ]
     },
     "execution_count": 5,
     "metadata": {},
     "output_type": "execute_result"
    }
   ],
   "source": [
    "data.head()"
   ]
  },
  {
   "cell_type": "code",
   "execution_count": 6,
   "metadata": {},
   "outputs": [
    {
     "data": {
      "text/plain": [
       "Index(['surface', 'draw-size', 'tourney_level', 'player0_id', 'player0_name',\n",
       "       'player0_hand', 'player0_ht', 'player0_ioc', 'player0_age',\n",
       "       'player0_rank', 'player0_rank_points', 'player1_id', 'player1_name',\n",
       "       'player1_hand', 'player1_ht', 'player1_ioc', 'player1_age',\n",
       "       'player1_rank', 'player1_rank_points', 'best_of', 'round', 'minutes',\n",
       "       'winner'],\n",
       "      dtype='object')"
      ]
     },
     "execution_count": 6,
     "metadata": {},
     "output_type": "execute_result"
    }
   ],
   "source": [
    "data.columns"
   ]
  },
  {
   "cell_type": "code",
   "execution_count": 7,
   "metadata": {},
   "outputs": [
    {
     "data": {
      "text/plain": [
       "15"
      ]
     },
     "execution_count": 7,
     "metadata": {},
     "output_type": "execute_result"
    }
   ],
   "source": [
    "['surface', 'draw-size', 'tourney_level',\n",
    "'player0_hand', 'player0_ht', 'player0_ioc', 'player0_age',\n",
    "'player0_rank_points',\n",
    "'player1_ht', 'player1_ioc', 'player1_age',\n",
    "'player1_rank', 'player1_rank_points', 'best_of',\n",
    "'winner'].__len__()"
   ]
  },
  {
   "cell_type": "code",
   "execution_count": 8,
   "metadata": {},
   "outputs": [],
   "source": [
    "from sklearn.linear_model import LogisticRegression\n",
    "from sklearn.ensemble import RandomForestClassifier\n",
    "from sklearn.tree import DecisionTreeClassifier\n",
    "from sklearn.neighbors import KNeighborsClassifier\n",
    "from sklearn.naive_bayes import GaussianNB\n",
    "\n",
    "from sklearn.metrics import accuracy_score"
   ]
  },
  {
   "cell_type": "code",
   "execution_count": 9,
   "metadata": {},
   "outputs": [],
   "source": [
    "dataset = make_ds(data, train_split=0.8, shuffle=True)"
   ]
  },
  {
   "cell_type": "code",
   "execution_count": 10,
   "metadata": {},
   "outputs": [
    {
     "data": {
      "text/plain": [
       "(28166, 14)"
      ]
     },
     "execution_count": 10,
     "metadata": {},
     "output_type": "execute_result"
    }
   ],
   "source": [
    "dataset[0].shape"
   ]
  },
  {
   "cell_type": "code",
   "execution_count": 11,
   "metadata": {},
   "outputs": [
    {
     "name": "stdout",
     "output_type": "stream",
     "text": [
      "Training model -> LogisticRegression(C=3, max_iter=2500)\n",
      "Train acc: 64.894\n",
      "Test acc: 64.982\n",
      "\n",
      "              precision    recall  f1-score   support\n",
      "\n",
      "           0       0.65      0.65      0.65      3532\n",
      "           1       0.65      0.65      0.65      3510\n",
      "\n",
      "    accuracy                           0.65      7042\n",
      "   macro avg       0.65      0.65      0.65      7042\n",
      "weighted avg       0.65      0.65      0.65      7042\n",
      "\n",
      "================================================================================\n",
      "Training model -> RandomForestClassifier(bootstrap=False, max_depth=40, max_features='sqrt',\n",
      "                       min_samples_split=10, n_estimators=230)\n",
      "Train acc: 99.993\n",
      "Test acc: 87.404\n",
      "\n",
      "              precision    recall  f1-score   support\n",
      "\n",
      "           0       0.88      0.87      0.87      3532\n",
      "           1       0.87      0.88      0.87      3510\n",
      "\n",
      "    accuracy                           0.87      7042\n",
      "   macro avg       0.87      0.87      0.87      7042\n",
      "weighted avg       0.87      0.87      0.87      7042\n",
      "\n",
      "================================================================================\n",
      "Training model -> DecisionTreeClassifier(criterion='entropy', max_depth=40)\n",
      "Train acc: 100.000\n",
      "Test acc: 92.871\n",
      "\n",
      "              precision    recall  f1-score   support\n",
      "\n",
      "           0       0.93      0.92      0.93      3532\n",
      "           1       0.92      0.93      0.93      3510\n",
      "\n",
      "    accuracy                           0.93      7042\n",
      "   macro avg       0.93      0.93      0.93      7042\n",
      "weighted avg       0.93      0.93      0.93      7042\n",
      "\n",
      "================================================================================\n",
      "Training model -> KNeighborsClassifier(leaf_size=10)\n",
      "Train acc: 91.209\n",
      "Test acc: 86.978\n",
      "\n",
      "              precision    recall  f1-score   support\n",
      "\n",
      "           0       0.87      0.87      0.87      3532\n",
      "           1       0.87      0.87      0.87      3510\n",
      "\n",
      "    accuracy                           0.87      7042\n",
      "   macro avg       0.87      0.87      0.87      7042\n",
      "weighted avg       0.87      0.87      0.87      7042\n",
      "\n",
      "================================================================================\n",
      "Training model -> GaussianNB()\n",
      "Train acc: 60.612\n",
      "Test acc: 60.409\n",
      "\n",
      "              precision    recall  f1-score   support\n",
      "\n",
      "           0       0.59      0.67      0.63      3532\n",
      "           1       0.62      0.54      0.58      3510\n",
      "\n",
      "    accuracy                           0.60      7042\n",
      "   macro avg       0.61      0.60      0.60      7042\n",
      "weighted avg       0.61      0.60      0.60      7042\n",
      "\n",
      "================================================================================\n"
     ]
    }
   ],
   "source": [
    "models = [\n",
    "    LogisticRegression(max_iter=2500, C=3),\n",
    "    RandomForestClassifier(n_estimators= 230, min_samples_split= 10, min_samples_leaf= 1, max_features= 'sqrt', max_depth= 40, bootstrap= False),\n",
    "    DecisionTreeClassifier(criterion='entropy', max_depth=40),\n",
    "    KNeighborsClassifier(leaf_size=10, n_neighbors=5),\n",
    "    GaussianNB()\n",
    "]\n",
    "\n",
    "models = train_models(dataset, models)\n",
    "preds = get_preds(dataset, models)"
   ]
  },
  {
   "cell_type": "code",
   "execution_count": 12,
   "metadata": {},
   "outputs": [
    {
     "name": "stderr",
     "output_type": "stream",
     "text": [
      "/home/sparsh/Desktop/Deep-Learning/deep-learning/lib/python3.8/site-packages/sklearn/utils/deprecation.py:87: FutureWarning: Function plot_roc_curve is deprecated; Function `plot_roc_curve` is deprecated in 1.0 and will be removed in 1.2. Use one of the class methods: RocCurveDisplay.from_predictions or RocCurveDisplay.from_estimator.\n",
      "  warnings.warn(msg, category=FutureWarning)\n",
      "/home/sparsh/Desktop/Deep-Learning/deep-learning/lib/python3.8/site-packages/sklearn/utils/deprecation.py:87: FutureWarning: Function plot_roc_curve is deprecated; Function `plot_roc_curve` is deprecated in 1.0 and will be removed in 1.2. Use one of the class methods: RocCurveDisplay.from_predictions or RocCurveDisplay.from_estimator.\n",
      "  warnings.warn(msg, category=FutureWarning)\n",
      "/home/sparsh/Desktop/Deep-Learning/deep-learning/lib/python3.8/site-packages/sklearn/utils/deprecation.py:87: FutureWarning: Function plot_roc_curve is deprecated; Function `plot_roc_curve` is deprecated in 1.0 and will be removed in 1.2. Use one of the class methods: RocCurveDisplay.from_predictions or RocCurveDisplay.from_estimator.\n",
      "  warnings.warn(msg, category=FutureWarning)\n",
      "/home/sparsh/Desktop/Deep-Learning/deep-learning/lib/python3.8/site-packages/sklearn/utils/deprecation.py:87: FutureWarning: Function plot_roc_curve is deprecated; Function `plot_roc_curve` is deprecated in 1.0 and will be removed in 1.2. Use one of the class methods: RocCurveDisplay.from_predictions or RocCurveDisplay.from_estimator.\n",
      "  warnings.warn(msg, category=FutureWarning)\n",
      "/home/sparsh/Desktop/Deep-Learning/deep-learning/lib/python3.8/site-packages/sklearn/utils/deprecation.py:87: FutureWarning: Function plot_roc_curve is deprecated; Function `plot_roc_curve` is deprecated in 1.0 and will be removed in 1.2. Use one of the class methods: RocCurveDisplay.from_predictions or RocCurveDisplay.from_estimator.\n",
      "  warnings.warn(msg, category=FutureWarning)\n"
     ]
    },
    {
     "data": {
      "text/plain": [
       "<Figure size 432x288 with 0 Axes>"
      ]
     },
     "metadata": {},
     "output_type": "display_data"
    },
    {
     "data": {
      "image/png": "[encoded data removed]",
      "text/plain": [
       "<Figure size 432x288 with 1 Axes>"
      ]
     },
     "metadata": {
      "needs_background": "light"
     },
     "output_type": "display_data"
    }
   ],
   "source": [
    "fig = plot_rocs(dataset, models, preds)"
   ]
  },
  {
   "cell_type": "markdown",
   "metadata": {},
   "source": [
    "## Neural Network"
   ]
  },
  {
   "cell_type": "code",
   "execution_count": 13,
   "metadata": {},
   "outputs": [
    {
     "name": "stderr",
     "output_type": "stream",
     "text": [
      "2021-11-17 17:23:36.709226: W tensorflow/stream_executor/platform/default/dso_loader.cc:64] Could not load dynamic library 'libcudart.so.11.0'; dlerror: libcudart.so.11.0: cannot open shared object file: No such file or directory\n",
      "2021-11-17 17:23:36.709245: I tensorflow/stream_executor/cuda/cudart_stub.cc:29] Ignore above cudart dlerror if you do not have a GPU set up on your machine.\n"
     ]
    }
   ],
   "source": [
    "from tensorflow.keras import layers\n",
    "from tensorflow.keras import Sequential"
   ]
  },
  {
   "cell_type": "code",
   "execution_count": 14,
   "metadata": {},
   "outputs": [
    {
     "name": "stderr",
     "output_type": "stream",
     "text": [
      "2021-11-17 17:23:37.739245: I tensorflow/stream_executor/cuda/cuda_gpu_executor.cc:939] successful NUMA node read from SysFS had negative value (-1), but there must be at least one NUMA node, so returning NUMA node zero\n",
      "2021-11-17 17:23:37.739884: W tensorflow/stream_executor/platform/default/dso_loader.cc:64] Could not load dynamic library 'libcudart.so.11.0'; dlerror: libcudart.so.11.0: cannot open shared object file: No such file or directory\n",
      "2021-11-17 17:23:37.739949: W tensorflow/stream_executor/platform/default/dso_loader.cc:64] Could not load dynamic library 'libcublas.so.11'; dlerror: libcublas.so.11: cannot open shared object file: No such file or directory\n",
      "2021-11-17 17:23:37.740007: W tensorflow/stream_executor/platform/default/dso_loader.cc:64] Could not load dynamic library 'libcublasLt.so.11'; dlerror: libcublasLt.so.11: cannot open shared object file: No such file or directory\n",
      "2021-11-17 17:23:37.740064: W tensorflow/stream_executor/platform/default/dso_loader.cc:64] Could not load dynamic library 'libcufft.so.10'; dlerror: libcufft.so.10: cannot open shared object file: No such file or directory\n",
      "2021-11-17 17:23:37.740121: W tensorflow/stream_executor/platform/default/dso_loader.cc:64] Could not load dynamic library 'libcurand.so.10'; dlerror: libcurand.so.10: cannot open shared object file: No such file or directory\n",
      "2021-11-17 17:23:37.740177: W tensorflow/stream_executor/platform/default/dso_loader.cc:64] Could not load dynamic library 'libcusolver.so.11'; dlerror: libcusolver.so.11: cannot open shared object file: No such file or directory\n",
      "2021-11-17 17:23:37.740232: W tensorflow/stream_executor/platform/default/dso_loader.cc:64] Could not load dynamic library 'libcusparse.so.11'; dlerror: libcusparse.so.11: cannot open shared object file: No such file or directory\n",
      "2021-11-17 17:23:37.740288: W tensorflow/stream_executor/platform/default/dso_loader.cc:64] Could not load dynamic library 'libcudnn.so.8'; dlerror: libcudnn.so.8: cannot open shared object file: No such file or directory\n",
      "2021-11-17 17:23:37.740298: W tensorflow/core/common_runtime/gpu/gpu_device.cc:1850] Cannot dlopen some GPU libraries. Please make sure the missing libraries mentioned above are installed properly if you would like to use GPU. Follow the guide at https://www.tensorflow.org/install/gpu for how to download and setup the required libraries for your platform.\n",
      "Skipping registering GPU devices...\n",
      "2021-11-17 17:23:37.740609: I tensorflow/core/platform/cpu_feature_guard.cc:151] This TensorFlow binary is optimized with oneAPI Deep Neural Network Library (oneDNN) to use the following CPU instructions in performance-critical operations:  AVX2 FMA\n",
      "To enable them in other operations, rebuild TensorFlow with the appropriate compiler flags.\n"
     ]
    },
    {
     "name": "stdout",
     "output_type": "stream",
     "text": [
      "Epoch 1/20\n",
      "881/881 [==============================] - 2s 2ms/step - loss: 0.6914 - accuracy: 0.5336 - val_loss: 0.6894 - val_accuracy: 0.5349\n",
      "Epoch 2/20\n",
      "881/881 [==============================] - 3s 4ms/step - loss: 0.6876 - accuracy: 0.5488 - val_loss: 0.6832 - val_accuracy: 0.5669\n",
      "Epoch 3/20\n",
      "881/881 [==============================] - 4s 4ms/step - loss: 0.6819 - accuracy: 0.5659 - val_loss: 0.6739 - val_accuracy: 0.5807\n",
      "Epoch 4/20\n",
      "881/881 [==============================] - 4s 5ms/step - loss: 0.6697 - accuracy: 0.5909 - val_loss: 0.6526 - val_accuracy: 0.6153\n",
      "Epoch 5/20\n",
      "881/881 [==============================] - 3s 4ms/step - loss: 0.6529 - accuracy: 0.6073 - val_loss: 0.6426 - val_accuracy: 0.6230\n",
      "Epoch 6/20\n",
      "881/881 [==============================] - 2s 2ms/step - loss: 0.6368 - accuracy: 0.6309 - val_loss: 0.6392 - val_accuracy: 0.6213\n",
      "Epoch 7/20\n",
      "881/881 [==============================] - 3s 3ms/step - loss: 0.6291 - accuracy: 0.6385 - val_loss: 0.6326 - val_accuracy: 0.6365\n",
      "Epoch 8/20\n",
      "881/881 [==============================] - 3s 3ms/step - loss: 0.6266 - accuracy: 0.6405 - val_loss: 0.6219 - val_accuracy: 0.6475\n",
      "Epoch 9/20\n",
      "881/881 [==============================] - 3s 3ms/step - loss: 0.6227 - accuracy: 0.6457 - val_loss: 0.6209 - val_accuracy: 0.6505\n",
      "Epoch 10/20\n",
      "881/881 [==============================] - 3s 4ms/step - loss: 0.6214 - accuracy: 0.6473 - val_loss: 0.6218 - val_accuracy: 0.6393\n",
      "Epoch 11/20\n",
      "881/881 [==============================] - 3s 3ms/step - loss: 0.6190 - accuracy: 0.6517 - val_loss: 0.6252 - val_accuracy: 0.6377\n",
      "Epoch 12/20\n",
      "881/881 [==============================] - 3s 3ms/step - loss: 0.6173 - accuracy: 0.6533 - val_loss: 0.6184 - val_accuracy: 0.6487\n",
      "Epoch 13/20\n",
      "881/881 [==============================] - 3s 4ms/step - loss: 0.6164 - accuracy: 0.6544 - val_loss: 0.6183 - val_accuracy: 0.6528\n",
      "Epoch 14/20\n",
      "881/881 [==============================] - 3s 4ms/step - loss: 0.6154 - accuracy: 0.6545 - val_loss: 0.6193 - val_accuracy: 0.6500\n",
      "Epoch 15/20\n",
      "881/881 [==============================] - 3s 4ms/step - loss: 0.6145 - accuracy: 0.6564 - val_loss: 0.6111 - val_accuracy: 0.6583\n",
      "Epoch 16/20\n",
      "881/881 [==============================] - 3s 3ms/step - loss: 0.6111 - accuracy: 0.6622 - val_loss: 0.6102 - val_accuracy: 0.6622\n",
      "Epoch 17/20\n",
      "881/881 [==============================] - 4s 4ms/step - loss: 0.6126 - accuracy: 0.6577 - val_loss: 0.6119 - val_accuracy: 0.6579\n",
      "Epoch 18/20\n",
      "881/881 [==============================] - 3s 3ms/step - loss: 0.6115 - accuracy: 0.6576 - val_loss: 0.6124 - val_accuracy: 0.6555\n",
      "Epoch 19/20\n",
      "881/881 [==============================] - 3s 3ms/step - loss: 0.6103 - accuracy: 0.6583 - val_loss: 0.6155 - val_accuracy: 0.6571\n",
      "Epoch 20/20\n",
      "881/881 [==============================] - 2s 2ms/step - loss: 0.6095 - accuracy: 0.6613 - val_loss: 0.6098 - val_accuracy: 0.6589\n",
      "221/221 [==============================] - 0s 1ms/step - loss: 0.6098 - accuracy: 0.6589\n"
     ]
    }
   ],
   "source": [
    "nn = Sequential([\n",
    "    layers.Dense(16, activation='relu', input_shape=(14, )),\n",
    "    layers.Dense(32, activation='relu'),\n",
    "    # layers.Dense(64, activation='relu'),\n",
    "    layers.Dense(32, activation='relu'),\n",
    "    layers.Dense(1, activation='sigmoid')\n",
    "])\n",
    "nn.compile(\n",
    "    optimizer='adam',\n",
    "    loss='binary_crossentropy',\n",
    "    metrics=['accuracy']\n",
    ")\n",
    "nn.fit(dataset[0], dataset[2], epochs=20, validation_data=(dataset[1], dataset[3]))\n",
    "loss, nn_acc = nn.evaluate(dataset[1], dataset[3])"
   ]
  },
  {
   "cell_type": "code",
   "execution_count": 15,
   "metadata": {},
   "outputs": [
    {
     "data": {
      "text/plain": [
       "(0.6097514629364014, 0.6589037179946899)"
      ]
     },
     "execution_count": 15,
     "metadata": {},
     "output_type": "execute_result"
    }
   ],
   "source": [
    "loss, nn_acc"
   ]
  },
  {
   "cell_type": "code",
   "execution_count": 16,
   "metadata": {},
   "outputs": [
    {
     "data": {
      "text/plain": [
       "<matplotlib.legend.Legend at 0x7f41c81fbd30>"
      ]
     },
     "execution_count": 16,
     "metadata": {},
     "output_type": "execute_result"
    },
    {
     "data": {
      "image/png": "[encoded data removed]",
      "text/plain": [
       "<Figure size 432x288 with 1 Axes>"
      ]
     },
     "metadata": {
      "needs_background": "light"
     },
     "output_type": "display_data"
    }
   ],
   "source": [
    "from sklearn.metrics import roc_curve, roc_auc_score\n",
    "import matplotlib.pyplot as plt\n",
    "plt.figure()\n",
    "pr = nn.predict(dataset[1])\n",
    "fpr, tpr, _ = roc_curve(dataset[3], pr)\n",
    "auc = roc_auc_score(dataset[3], pr)\n",
    "plt.plot(fpr,tpr, label='Neural Network auc=%.3f' % (100*auc))\n",
    "plt.xlabel('False Postive Rate (Positive label: 1)')\n",
    "plt.ylabel('True Postive Rate (Positive label: 1)')\n",
    "plt.legend(loc='lower right')"
   ]
  },
  {
   "cell_type": "code",
   "execution_count": 17,
   "metadata": {},
   "outputs": [
    {
     "data": {
      "image/png": "[encoded data removed]",
      "text/plain": [
       "<Figure size 432x288 with 1 Axes>"
      ]
     },
     "metadata": {
      "needs_background": "light"
     },
     "output_type": "display_data"
    }
   ],
   "source": [
    "acc = [model.score(dataset[1], dataset[3]) for model in models]\n",
    "plot_bar('Accuracy Scores', models, acc, ['Neural Network'], nn_acc)"
   ]
  },
  {
   "cell_type": "code",
   "execution_count": 18,
   "metadata": {},
   "outputs": [
    {
     "data": {
      "image/png": "[encoded data removed]",
      "text/plain": [
       "<Figure size 432x288 with 1 Axes>"
      ]
     },
     "metadata": {
      "needs_background": "light"
     },
     "output_type": "display_data"
    }
   ],
   "source": [
    "nn_auc = roc_auc_score(dataset[3], nn.predict(dataset[1]))\n",
    "auc = [roc_auc_score(dataset[3], model.predict(dataset[1])) for model in models]\n",
    "plot_bar('AUC Scores', models, auc, ['Neural Network'], nn_auc)"
   ]
  },
  {
   "cell_type": "code",
   "execution_count": 19,
   "metadata": {},
   "outputs": [
    {
     "data": {
      "text/plain": [
       "0.8791536495313831"
      ]
     },
     "execution_count": 19,
     "metadata": {},
     "output_type": "execute_result"
    }
   ],
   "source": [
    "hv_preds = hard_voting(get_preds(dataset, models))\n",
    "hv_acc = accuracy_score(hv_preds, dataset[3])\n",
    "hv_acc"
   ]
  },
  {
   "cell_type": "code",
   "execution_count": 20,
   "metadata": {},
   "outputs": [
    {
     "data": {
      "image/png": "[encoded data removed]",
      "text/plain": [
       "<Figure size 432x288 with 1 Axes>"
      ]
     },
     "metadata": {
      "needs_background": "light"
     },
     "output_type": "display_data"
    }
   ],
   "source": [
    "plot_bar('Accuracy Scores', models, acc, ['Neural Network', 'Ensemble'], [nn_acc, hv_acc])"
   ]
  },
  {
   "cell_type": "code",
   "execution_count": 21,
   "metadata": {},
   "outputs": [
    {
     "data": {
      "image/png": "[encoded data removed]",
      "text/plain": [
       "<Figure size 432x288 with 1 Axes>"
      ]
     },
     "metadata": {
      "needs_background": "light"
     },
     "output_type": "display_data"
    }
   ],
   "source": [
    "hv_auc = roc_auc_score(dataset[3], hv_preds)\n",
    "auc = [roc_auc_score(dataset[3], model.predict(dataset[1])) for model in models]\n",
    "plot_bar('AUC Scores', models, auc, ['Neural Network', 'Ensemble'], [nn_auc, hv_auc])"
   ]
  },
  {
   "cell_type": "code",
   "execution_count": null,
   "metadata": {},
   "outputs": [],
   "source": []
  },
  {
   "cell_type": "code",
   "execution_count": null,
   "metadata": {},
   "outputs": [],
   "source": []
  },
  {
   "cell_type": "markdown",
   "metadata": {},
   "source": [
    "### Test Data"
   ]
  },
  {
   "cell_type": "code",
   "execution_count": 22,
   "metadata": {},
   "outputs": [
    {
     "data": {
      "text/html": [
       "<div>\n",
       "<style scoped>\n",
       "    .dataframe tbody tr th:only-of-type {\n",
       "        vertical-align: middle;\n",
       "    }\n",
       "\n",
       "    .dataframe tbody tr th {\n",
       "        vertical-align: top;\n",
       "    }\n",
       "\n",
       "    .dataframe thead th {\n",
       "        text-align: right;\n",
       "    }\n",
       "</style>\n",
       "<table border=\"1\" class=\"dataframe\">\n",
       "  <thead>\n",
       "    <tr style=\"text-align: right;\">\n",
       "      <th></th>\n",
       "      <th>surface</th>\n",
       "      <th>draw-size</th>\n",
       "      <th>tourney_level</th>\n",
       "      <th>player0_id</th>\n",
       "      <th>player0_name</th>\n",
       "      <th>player0_hand</th>\n",
       "      <th>player0_ht</th>\n",
       "      <th>player0_ioc</th>\n",
       "      <th>player0_age</th>\n",
       "      <th>player0_rank</th>\n",
       "      <th>...</th>\n",
       "      <th>player1_hand</th>\n",
       "      <th>player1_ht</th>\n",
       "      <th>player1_ioc</th>\n",
       "      <th>player1_age</th>\n",
       "      <th>player1_rank</th>\n",
       "      <th>player1_rank_points</th>\n",
       "      <th>best_of</th>\n",
       "      <th>round</th>\n",
       "      <th>minutes</th>\n",
       "      <th>winner</th>\n",
       "    </tr>\n",
       "  </thead>\n",
       "  <tbody>\n",
       "    <tr>\n",
       "      <th>0</th>\n",
       "      <td>0</td>\n",
       "      <td>1</td>\n",
       "      <td>0</td>\n",
       "      <td>104919</td>\n",
       "      <td>Leonardo Mayer</td>\n",
       "      <td>1</td>\n",
       "      <td>0.555556</td>\n",
       "      <td>1</td>\n",
       "      <td>0.360270</td>\n",
       "      <td>0.072233</td>\n",
       "      <td>...</td>\n",
       "      <td>0</td>\n",
       "      <td>0.888889</td>\n",
       "      <td>22</td>\n",
       "      <td>0.365854</td>\n",
       "      <td>0.080378</td>\n",
       "      <td>0.049485</td>\n",
       "      <td>0</td>\n",
       "      <td>4</td>\n",
       "      <td>0.268456</td>\n",
       "      <td>0</td>\n",
       "    </tr>\n",
       "    <tr>\n",
       "      <th>3</th>\n",
       "      <td>0</td>\n",
       "      <td>1</td>\n",
       "      <td>0</td>\n",
       "      <td>105064</td>\n",
       "      <td>Thomaz Bellucci</td>\n",
       "      <td>0</td>\n",
       "      <td>0.555556</td>\n",
       "      <td>6</td>\n",
       "      <td>0.322581</td>\n",
       "      <td>0.106942</td>\n",
       "      <td>...</td>\n",
       "      <td>1</td>\n",
       "      <td>0.555556</td>\n",
       "      <td>15</td>\n",
       "      <td>0.610597</td>\n",
       "      <td>0.083924</td>\n",
       "      <td>0.047352</td>\n",
       "      <td>0</td>\n",
       "      <td>4</td>\n",
       "      <td>0.560403</td>\n",
       "      <td>1</td>\n",
       "    </tr>\n",
       "    <tr>\n",
       "      <th>4</th>\n",
       "      <td>0</td>\n",
       "      <td>1</td>\n",
       "      <td>0</td>\n",
       "      <td>104898</td>\n",
       "      <td>Robin Haase</td>\n",
       "      <td>1</td>\n",
       "      <td>0.600000</td>\n",
       "      <td>30</td>\n",
       "      <td>0.366689</td>\n",
       "      <td>0.062852</td>\n",
       "      <td>...</td>\n",
       "      <td>1</td>\n",
       "      <td>0.555556</td>\n",
       "      <td>22</td>\n",
       "      <td>0.182002</td>\n",
       "      <td>0.112293</td>\n",
       "      <td>0.038891</td>\n",
       "      <td>0</td>\n",
       "      <td>4</td>\n",
       "      <td>0.355705</td>\n",
       "      <td>0</td>\n",
       "    </tr>\n",
       "    <tr>\n",
       "      <th>5</th>\n",
       "      <td>0</td>\n",
       "      <td>1</td>\n",
       "      <td>0</td>\n",
       "      <td>104978</td>\n",
       "      <td>Daniel Brands</td>\n",
       "      <td>1</td>\n",
       "      <td>0.733333</td>\n",
       "      <td>20</td>\n",
       "      <td>0.349901</td>\n",
       "      <td>0.047842</td>\n",
       "      <td>...</td>\n",
       "      <td>1</td>\n",
       "      <td>0.444444</td>\n",
       "      <td>1</td>\n",
       "      <td>0.630950</td>\n",
       "      <td>0.049645</td>\n",
       "      <td>0.063989</td>\n",
       "      <td>0</td>\n",
       "      <td>4</td>\n",
       "      <td>0.379195</td>\n",
       "      <td>0</td>\n",
       "    </tr>\n",
       "    <tr>\n",
       "      <th>6</th>\n",
       "      <td>0</td>\n",
       "      <td>1</td>\n",
       "      <td>0</td>\n",
       "      <td>103656</td>\n",
       "      <td>Albert Montanes</td>\n",
       "      <td>1</td>\n",
       "      <td>0.266667</td>\n",
       "      <td>15</td>\n",
       "      <td>0.748848</td>\n",
       "      <td>0.041276</td>\n",
       "      <td>...</td>\n",
       "      <td>1</td>\n",
       "      <td>0.333333</td>\n",
       "      <td>38</td>\n",
       "      <td>0.509504</td>\n",
       "      <td>0.107565</td>\n",
       "      <td>0.040313</td>\n",
       "      <td>0</td>\n",
       "      <td>4</td>\n",
       "      <td>0.224832</td>\n",
       "      <td>0</td>\n",
       "    </tr>\n",
       "    <tr>\n",
       "      <th>...</th>\n",
       "      <td>...</td>\n",
       "      <td>...</td>\n",
       "      <td>...</td>\n",
       "      <td>...</td>\n",
       "      <td>...</td>\n",
       "      <td>...</td>\n",
       "      <td>...</td>\n",
       "      <td>...</td>\n",
       "      <td>...</td>\n",
       "      <td>...</td>\n",
       "      <td>...</td>\n",
       "      <td>...</td>\n",
       "      <td>...</td>\n",
       "      <td>...</td>\n",
       "      <td>...</td>\n",
       "      <td>...</td>\n",
       "      <td>...</td>\n",
       "      <td>...</td>\n",
       "      <td>...</td>\n",
       "      <td>...</td>\n",
       "      <td>...</td>\n",
       "    </tr>\n",
       "    <tr>\n",
       "      <th>2610</th>\n",
       "      <td>0</td>\n",
       "      <td>6</td>\n",
       "      <td>2</td>\n",
       "      <td>105453</td>\n",
       "      <td>Kei Nishikori</td>\n",
       "      <td>1</td>\n",
       "      <td>0.333333</td>\n",
       "      <td>28</td>\n",
       "      <td>0.311883</td>\n",
       "      <td>0.003752</td>\n",
       "      <td>...</td>\n",
       "      <td>1</td>\n",
       "      <td>0.555556</td>\n",
       "      <td>18</td>\n",
       "      <td>0.607569</td>\n",
       "      <td>0.016548</td>\n",
       "      <td>0.143974</td>\n",
       "      <td>1</td>\n",
       "      <td>1</td>\n",
       "      <td>0.741611</td>\n",
       "      <td>1</td>\n",
       "    </tr>\n",
       "    <tr>\n",
       "      <th>2611</th>\n",
       "      <td>0</td>\n",
       "      <td>6</td>\n",
       "      <td>2</td>\n",
       "      <td>103819</td>\n",
       "      <td>Roger Federer</td>\n",
       "      <td>1</td>\n",
       "      <td>0.488889</td>\n",
       "      <td>43</td>\n",
       "      <td>0.816327</td>\n",
       "      <td>0.000938</td>\n",
       "      <td>...</td>\n",
       "      <td>1</td>\n",
       "      <td>0.444444</td>\n",
       "      <td>38</td>\n",
       "      <td>0.610934</td>\n",
       "      <td>0.009456</td>\n",
       "      <td>0.271952</td>\n",
       "      <td>1</td>\n",
       "      <td>1</td>\n",
       "      <td>0.419463</td>\n",
       "      <td>1</td>\n",
       "    </tr>\n",
       "    <tr>\n",
       "      <th>2612</th>\n",
       "      <td>0</td>\n",
       "      <td>6</td>\n",
       "      <td>2</td>\n",
       "      <td>104925</td>\n",
       "      <td>Novak Djokovic</td>\n",
       "      <td>1</td>\n",
       "      <td>0.555556</td>\n",
       "      <td>37</td>\n",
       "      <td>0.468565</td>\n",
       "      <td>0.000000</td>\n",
       "      <td>...</td>\n",
       "      <td>1</td>\n",
       "      <td>0.600000</td>\n",
       "      <td>23</td>\n",
       "      <td>0.480067</td>\n",
       "      <td>0.002364</td>\n",
       "      <td>0.499111</td>\n",
       "      <td>1</td>\n",
       "      <td>7</td>\n",
       "      <td>0.822148</td>\n",
       "      <td>0</td>\n",
       "    </tr>\n",
       "    <tr>\n",
       "      <th>2613</th>\n",
       "      <td>0</td>\n",
       "      <td>6</td>\n",
       "      <td>2</td>\n",
       "      <td>104527</td>\n",
       "      <td>Stanislas Wawrinka</td>\n",
       "      <td>1</td>\n",
       "      <td>0.444444</td>\n",
       "      <td>38</td>\n",
       "      <td>0.597762</td>\n",
       "      <td>0.007505</td>\n",
       "      <td>...</td>\n",
       "      <td>1</td>\n",
       "      <td>0.555556</td>\n",
       "      <td>22</td>\n",
       "      <td>0.607569</td>\n",
       "      <td>0.016548</td>\n",
       "      <td>0.143974</td>\n",
       "      <td>1</td>\n",
       "      <td>7</td>\n",
       "      <td>0.744966</td>\n",
       "      <td>0</td>\n",
       "    </tr>\n",
       "    <tr>\n",
       "      <th>2614</th>\n",
       "      <td>0</td>\n",
       "      <td>6</td>\n",
       "      <td>2</td>\n",
       "      <td>104925</td>\n",
       "      <td>Novak Djokovic</td>\n",
       "      <td>1</td>\n",
       "      <td>0.555556</td>\n",
       "      <td>42</td>\n",
       "      <td>0.468565</td>\n",
       "      <td>0.000000</td>\n",
       "      <td>...</td>\n",
       "      <td>1</td>\n",
       "      <td>0.444444</td>\n",
       "      <td>38</td>\n",
       "      <td>0.610934</td>\n",
       "      <td>0.009456</td>\n",
       "      <td>0.271952</td>\n",
       "      <td>1</td>\n",
       "      <td>0</td>\n",
       "      <td>0.630872</td>\n",
       "      <td>1</td>\n",
       "    </tr>\n",
       "  </tbody>\n",
       "</table>\n",
       "<p>5205 rows × 23 columns</p>\n",
       "</div>"
      ],
      "text/plain": [
       "      surface  draw-size  tourney_level  player0_id        player0_name  \\\n",
       "0           0          1              0      104919      Leonardo Mayer   \n",
       "3           0          1              0      105064     Thomaz Bellucci   \n",
       "4           0          1              0      104898         Robin Haase   \n",
       "5           0          1              0      104978       Daniel Brands   \n",
       "6           0          1              0      103656     Albert Montanes   \n",
       "...       ...        ...            ...         ...                 ...   \n",
       "2610        0          6              2      105453       Kei Nishikori   \n",
       "2611        0          6              2      103819       Roger Federer   \n",
       "2612        0          6              2      104925      Novak Djokovic   \n",
       "2613        0          6              2      104527  Stanislas Wawrinka   \n",
       "2614        0          6              2      104925      Novak Djokovic   \n",
       "\n",
       "      player0_hand  player0_ht  player0_ioc  player0_age  player0_rank  ...  \\\n",
       "0                1    0.555556            1     0.360270      0.072233  ...   \n",
       "3                0    0.555556            6     0.322581      0.106942  ...   \n",
       "4                1    0.600000           30     0.366689      0.062852  ...   \n",
       "5                1    0.733333           20     0.349901      0.047842  ...   \n",
       "6                1    0.266667           15     0.748848      0.041276  ...   \n",
       "...            ...         ...          ...          ...           ...  ...   \n",
       "2610             1    0.333333           28     0.311883      0.003752  ...   \n",
       "2611             1    0.488889           43     0.816327      0.000938  ...   \n",
       "2612             1    0.555556           37     0.468565      0.000000  ...   \n",
       "2613             1    0.444444           38     0.597762      0.007505  ...   \n",
       "2614             1    0.555556           42     0.468565      0.000000  ...   \n",
       "\n",
       "      player1_hand  player1_ht player1_ioc  player1_age  player1_rank  \\\n",
       "0                0    0.888889          22     0.365854      0.080378   \n",
       "3                1    0.555556          15     0.610597      0.083924   \n",
       "4                1    0.555556          22     0.182002      0.112293   \n",
       "5                1    0.444444           1     0.630950      0.049645   \n",
       "6                1    0.333333          38     0.509504      0.107565   \n",
       "...            ...         ...         ...          ...           ...   \n",
       "2610             1    0.555556          18     0.607569      0.016548   \n",
       "2611             1    0.444444          38     0.610934      0.009456   \n",
       "2612             1    0.600000          23     0.480067      0.002364   \n",
       "2613             1    0.555556          22     0.607569      0.016548   \n",
       "2614             1    0.444444          38     0.610934      0.009456   \n",
       "\n",
       "      player1_rank_points  best_of  round   minutes  winner  \n",
       "0                0.049485        0      4  0.268456       0  \n",
       "3                0.047352        0      4  0.560403       1  \n",
       "4                0.038891        0      4  0.355705       0  \n",
       "5                0.063989        0      4  0.379195       0  \n",
       "6                0.040313        0      4  0.224832       0  \n",
       "...                   ...      ...    ...       ...     ...  \n",
       "2610             0.143974        1      1  0.741611       1  \n",
       "2611             0.271952        1      1  0.419463       1  \n",
       "2612             0.499111        1      7  0.822148       0  \n",
       "2613             0.143974        1      7  0.744966       0  \n",
       "2614             0.271952        1      0  0.630872       1  \n",
       "\n",
       "[5205 rows x 23 columns]"
      ]
     },
     "execution_count": 22,
     "metadata": {},
     "output_type": "execute_result"
    }
   ],
   "source": [
    "test_data = pd.read_csv('test_2013_2015.csv')\n",
    "test_data"
   ]
  },
  {
   "cell_type": "code",
   "execution_count": 30,
   "metadata": {},
   "outputs": [
    {
     "data": {
      "text/plain": [
       "(0,)"
      ]
     },
     "execution_count": 30,
     "metadata": {},
     "output_type": "execute_result"
    }
   ],
   "source": [
    "test_ds = make_ds(test_data, 0)\n",
    "test_ds[0].shape"
   ]
  },
  {
   "cell_type": "code",
   "execution_count": 42,
   "metadata": {},
   "outputs": [
    {
     "data": {
      "text/plain": [
       "0.49855907780979825"
      ]
     },
     "execution_count": 42,
     "metadata": {},
     "output_type": "execute_result"
    }
   ],
   "source": [
    "accuracy_score(models[2].predict(test_ds[1]), test_ds[3])"
   ]
  },
  {
   "cell_type": "code",
   "execution_count": 52,
   "metadata": {},
   "outputs": [
    {
     "name": "stdout",
     "output_type": "stream",
     "text": [
      "163/163 [==============================] - 0s 1ms/step - loss: 0.5957 - accuracy: 0.6763\n"
     ]
    },
    {
     "data": {
      "text/plain": [
       "0.6762728095054626"
      ]
     },
     "execution_count": 52,
     "metadata": {},
     "output_type": "execute_result"
    }
   ],
   "source": [
    "nn_loss, nn_acc = nn.evaluate(test_ds[1], test_ds[3])\n",
    "nn_acc"
   ]
  },
  {
   "cell_type": "code",
   "execution_count": 34,
   "metadata": {},
   "outputs": [
    {
     "data": {
      "text/plain": [
       "[array([], dtype=float64),\n",
       " array([[0.        , 1.        , 0.        , ..., 0.36585366, 0.04948454,\n",
       "         0.        ],\n",
       "        [0.        , 1.        , 0.        , ..., 0.61059714, 0.04735158,\n",
       "         0.        ],\n",
       "        [0.        , 1.        , 0.        , ..., 0.18200168, 0.03889086,\n",
       "         0.        ],\n",
       "        ...,\n",
       "        [0.        , 6.        , 2.        , ..., 0.48006728, 0.49911127,\n",
       "         1.        ],\n",
       "        [0.        , 6.        , 2.        , ..., 0.60756939, 0.1439744 ,\n",
       "         1.        ],\n",
       "        [0.        , 6.        , 2.        , ..., 0.61093356, 0.27195165,\n",
       "         1.        ]]),\n",
       " array([], dtype=float64),\n",
       " array([0, 1, 0, ..., 0, 0, 1])]"
      ]
     },
     "execution_count": 34,
     "metadata": {},
     "output_type": "execute_result"
    }
   ],
   "source": [
    "test_ds"
   ]
  },
  {
   "cell_type": "code",
   "execution_count": 48,
   "metadata": {},
   "outputs": [
    {
     "data": {
      "text/plain": [
       "(5205,)"
      ]
     },
     "execution_count": 48,
     "metadata": {},
     "output_type": "execute_result"
    }
   ],
   "source": [
    "nn_preds = nn.predict(test_ds[1]).round().reshape(5205, )\n",
    "nn_preds.shape"
   ]
  },
  {
   "cell_type": "code",
   "execution_count": 49,
   "metadata": {},
   "outputs": [
    {
     "data": {
      "text/plain": [
       "(5205,)"
      ]
     },
     "execution_count": 49,
     "metadata": {},
     "output_type": "execute_result"
    }
   ],
   "source": [
    "preds = get_preds(test_ds, models)\n",
    "preds[0].shape"
   ]
  },
  {
   "cell_type": "code",
   "execution_count": 54,
   "metadata": {},
   "outputs": [
    {
     "data": {
      "text/plain": [
       "0.6622478386167147"
      ]
     },
     "execution_count": 54,
     "metadata": {},
     "output_type": "execute_result"
    }
   ],
   "source": [
    "pred_ens = hard_voting(preds+[nn_preds])\n",
    "ens_acc = accuracy_score(test_ds[3], pred_ens)\n",
    "ens_acc"
   ]
  },
  {
   "cell_type": "code",
   "execution_count": 55,
   "metadata": {},
   "outputs": [
    {
     "data": {
      "image/png": "[encoded data removed]",
      "text/plain": [
       "<Figure size 432x288 with 1 Axes>"
      ]
     },
     "metadata": {
      "needs_background": "light"
     },
     "output_type": "display_data"
    }
   ],
   "source": [
    "test_acc = [model.score(test_ds[1], test_ds[3]) for model in models]\n",
    "plot_bar('Test Accuracy', models, test_acc, ['Neural Network', 'Ensemble'], [nn_acc, ens_acc])"
   ]
  },
  {
   "cell_type": "code",
   "execution_count": 59,
   "metadata": {},
   "outputs": [
    {
     "data": {
      "text/plain": [
       "[0.6650821574555211,\n",
       " 0.6562106161150325,\n",
       " 0.49852721311514137,\n",
       " 0.4806179061832654,\n",
       " 0.6327153751245054]"
      ]
     },
     "execution_count": 59,
     "metadata": {},
     "output_type": "execute_result"
    }
   ],
   "source": [
    "test_auc = [roc_auc_score(preds[i], test_ds[3]) for i in range(len(models))]\n",
    "test_auc"
   ]
  },
  {
   "cell_type": "code",
   "execution_count": 60,
   "metadata": {},
   "outputs": [
    {
     "data": {
      "text/plain": [
       "0.6767669378859275"
      ]
     },
     "execution_count": 60,
     "metadata": {},
     "output_type": "execute_result"
    }
   ],
   "source": [
    "nn_auc = roc_auc_score(nn_preds, test_ds[3])\n",
    "nn_auc"
   ]
  },
  {
   "cell_type": "code",
   "execution_count": 62,
   "metadata": {},
   "outputs": [
    {
     "data": {
      "text/plain": [
       "0.666972262661865"
      ]
     },
     "execution_count": 62,
     "metadata": {},
     "output_type": "execute_result"
    }
   ],
   "source": [
    "ens_auc = roc_auc_score(pred_ens, test_ds[3])\n",
    "ens_auc"
   ]
  },
  {
   "cell_type": "code",
   "execution_count": 64,
   "metadata": {},
   "outputs": [
    {
     "data": {
      "image/png": "[encoded data removed]",
      "text/plain": [
       "<Figure size 432x288 with 1 Axes>"
      ]
     },
     "metadata": {
      "needs_background": "light"
     },
     "output_type": "display_data"
    }
   ],
   "source": [
    "plot_bar('Test AUC', models, test_auc, ['Neural Network', 'Ensemble'], [nn_auc, ens_auc])"
   ]
  },
  {
   "cell_type": "code",
   "execution_count": 66,
   "metadata": {},
   "outputs": [
    {
     "data": {
      "text/plain": [
       "[0.6651296829971182,\n",
       " 0.6562920268972142,\n",
       " 0.49855907780979825,\n",
       " 0.4803073967339097,\n",
       " 0.6309317963496638,\n",
       " 0.6762728095054626]"
      ]
     },
     "execution_count": 66,
     "metadata": {},
     "output_type": "execute_result"
    }
   ],
   "source": [
    "test_acc+[nn_acc]"
   ]
  },
  {
   "cell_type": "code",
   "execution_count": 67,
   "metadata": {},
   "outputs": [
    {
     "data": {
      "text/plain": [
       "[0.6650821574555211,\n",
       " 0.6562106161150325,\n",
       " 0.49852721311514137,\n",
       " 0.4806179061832654,\n",
       " 0.6327153751245054,\n",
       " 0.6767669378859275]"
      ]
     },
     "execution_count": 67,
     "metadata": {},
     "output_type": "execute_result"
    }
   ],
   "source": [
    "test_auc+[nn_auc]"
   ]
  }
 ],
 "metadata": {
  "interpreter": {
   "hash": "63ad576a4a5f887c15393daadea6f3e95b7987dc19552031f6f5612ffed50760"
  },
  "kernelspec": {
   "display_name": "Python 3.7.7 64-bit (system)",
   "name": "python3"
  },
  "language_info": {
   "codemirror_mode": {
    "name": "ipython",
    "version": 3
   },
   "file_extension": ".py",
   "mimetype": "text/x-python",
   "name": "python",
   "nbconvert_exporter": "python",
   "pygments_lexer": "ipython3",
   "version": "3.8.10"
  },
  "orig_nbformat": 4
 },
 "nbformat": 4,
 "nbformat_minor": 2
}
