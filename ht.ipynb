{
 "cells": [
  {
   "cell_type": "code",
   "execution_count": 1,
   "metadata": {},
   "outputs": [],
   "source": [
    "import os\n",
    "import pandas as pd\n",
    "\n",
    "from preprocessing import data_preprocess\n",
    "from models import make_ds, train_models, plot_rocs, get_preds, get_probas, plot_bar, hard_voting, soft_voting"
   ]
  },
  {
   "cell_type": "code",
   "execution_count": 2,
   "metadata": {},
   "outputs": [
    {
     "data": {
      "text/plain": [
       "(2738, 23)"
      ]
     },
     "execution_count": 2,
     "metadata": {},
     "output_type": "execute_result"
    }
   ],
   "source": [
    "data = data_preprocess(pd.read_csv('archive/atp_matches_2004.csv'))\n",
    "# data = pd.read_csv('train_val_2000_2012.csv')\n",
    "data.shape"
   ]
  },
  {
   "cell_type": "code",
   "execution_count": 11,
   "metadata": {},
   "outputs": [
    {
     "data": {
      "text/plain": [
       "(2190, 14)"
      ]
     },
     "execution_count": 11,
     "metadata": {},
     "output_type": "execute_result"
    }
   ],
   "source": [
    "dataset = make_ds(data, train_split=0.8, shuffle=True)\n",
    "dataset[0].shape"
   ]
  },
  {
   "cell_type": "code",
   "execution_count": 50,
   "metadata": {},
   "outputs": [],
   "source": [
    "from sklearn.linear_model import LogisticRegression\n",
    "from sklearn.ensemble import RandomForestClassifier\n",
    "from sklearn.tree import DecisionTreeClassifier\n",
    "from sklearn.neighbors import KNeighborsClassifier\n",
    "from sklearn.naive_bayes import GaussianNB\n",
    "\n",
    "from sklearn.model_selection import RandomizedSearchCV, GridSearchCV\n",
    "\n",
    "from sklearn.metrics import accuracy_score"
   ]
  },
  {
   "cell_type": "markdown",
   "metadata": {},
   "source": [
    "## Logistic Regression"
   ]
  },
  {
   "cell_type": "code",
   "execution_count": 77,
   "metadata": {},
   "outputs": [],
   "source": [
    "paras = {\n",
    "    'C': [0.01, 0.03, 0.1, 0.3, 1, 3, 10]\n",
    "}"
   ]
  },
  {
   "cell_type": "code",
   "execution_count": 78,
   "metadata": {},
   "outputs": [],
   "source": [
    "model = LogisticRegression(max_iter=3000)\n",
    "cv = GridSearchCV(model, paras, cv=5, verbose=2, scoring='accuracy')"
   ]
  },
  {
   "cell_type": "code",
   "execution_count": 79,
   "metadata": {},
   "outputs": [
    {
     "name": "stdout",
     "output_type": "stream",
     "text": [
      "Fitting 5 folds for each of 7 candidates, totalling 35 fits\n",
      "[CV] END .............................................C=0.01; total time=   0.1s\n",
      "[CV] END .............................................C=0.01; total time=   0.0s\n",
      "[CV] END .............................................C=0.01; total time=   0.0s\n",
      "[CV] END .............................................C=0.01; total time=   0.1s\n",
      "[CV] END .............................................C=0.01; total time=   0.1s\n",
      "[CV] END .............................................C=0.03; total time=   0.2s\n",
      "[CV] END .............................................C=0.03; total time=   0.1s\n",
      "[CV] END .............................................C=0.03; total time=   0.2s\n",
      "[CV] END .............................................C=0.03; total time=   0.2s\n",
      "[CV] END .............................................C=0.03; total time=   0.3s\n",
      "[CV] END ..............................................C=0.1; total time=   0.3s\n",
      "[CV] END ..............................................C=0.1; total time=   0.3s\n",
      "[CV] END ..............................................C=0.1; total time=   0.2s\n",
      "[CV] END ..............................................C=0.1; total time=   0.3s\n",
      "[CV] END ..............................................C=0.1; total time=   0.4s\n",
      "[CV] END ..............................................C=0.3; total time=   0.4s\n",
      "[CV] END ..............................................C=0.3; total time=   0.4s\n",
      "[CV] END ..............................................C=0.3; total time=   0.2s\n",
      "[CV] END ..............................................C=0.3; total time=   0.5s\n",
      "[CV] END ..............................................C=0.3; total time=   0.2s\n",
      "[CV] END ................................................C=1; total time=   0.3s\n",
      "[CV] END ................................................C=1; total time=   0.1s\n",
      "[CV] END ................................................C=1; total time=   0.2s\n",
      "[CV] END ................................................C=1; total time=   0.2s\n",
      "[CV] END ................................................C=1; total time=   0.2s\n",
      "[CV] END ................................................C=3; total time=   0.4s\n",
      "[CV] END ................................................C=3; total time=   0.3s\n",
      "[CV] END ................................................C=3; total time=   0.3s\n",
      "[CV] END ................................................C=3; total time=   0.4s\n",
      "[CV] END ................................................C=3; total time=   0.3s\n",
      "[CV] END ...............................................C=10; total time=   0.3s\n",
      "[CV] END ...............................................C=10; total time=   0.3s\n",
      "[CV] END ...............................................C=10; total time=   0.4s\n",
      "[CV] END ...............................................C=10; total time=   0.3s\n",
      "[CV] END ...............................................C=10; total time=   0.2s\n"
     ]
    },
    {
     "data": {
      "text/plain": [
       "GridSearchCV(cv=5, estimator=LogisticRegression(max_iter=3000),\n",
       "             param_grid={'C': [0.01, 0.03, 0.1, 0.3, 1, 3, 10]},\n",
       "             scoring='accuracy', verbose=2)"
      ]
     },
     "execution_count": 79,
     "metadata": {},
     "output_type": "execute_result"
    }
   ],
   "source": [
    "cv.fit(dataset[0], dataset[2])"
   ]
  },
  {
   "cell_type": "code",
   "execution_count": 83,
   "metadata": {},
   "outputs": [
    {
     "name": "stdout",
     "output_type": "stream",
     "text": [
      "Best Params: {'C': 3} \n",
      " Train acc: 0.6424657534246576 \n",
      " test acc: 0.6642335766423357\n"
     ]
    }
   ],
   "source": [
    "print('Best Params:', cv.best_params_, '\\n', 'Train acc:', cv.best_score_, '\\n', 'test acc:', cv.score(dataset[1], dataset[3]))"
   ]
  },
  {
   "cell_type": "markdown",
   "metadata": {},
   "source": [
    "## Random Forest"
   ]
  },
  {
   "cell_type": "code",
   "execution_count": 86,
   "metadata": {},
   "outputs": [],
   "source": [
    "paras = {\n",
    "    'bootstrap': [True, False],\n",
    "    'max_depth': [10, 20, 30, 40, 50, 60, 70, 80, 90, 100, 110, None],\n",
    "    'max_features': ['auto', 'sqrt'],\n",
    "    'min_samples_leaf': [1, 2, 4],\n",
    "    'min_samples_split': [2, 5, 10],\n",
    "    'n_estimators': [130, 180, 230]\n",
    "}"
   ]
  },
  {
   "cell_type": "code",
   "execution_count": 89,
   "metadata": {},
   "outputs": [],
   "source": [
    "model = RandomForestClassifier()\n",
    "cv = RandomizedSearchCV(model, paras, cv=5, verbose=2, scoring='accuracy', n_iter=10)"
   ]
  },
  {
   "cell_type": "code",
   "execution_count": 90,
   "metadata": {},
   "outputs": [
    {
     "name": "stdout",
     "output_type": "stream",
     "text": [
      "Fitting 5 folds for each of 10 candidates, totalling 50 fits\n",
      "[CV] END bootstrap=False, max_depth=50, max_features=auto, min_samples_leaf=4, min_samples_split=2, n_estimators=180; total time=   0.5s\n",
      "[CV] END bootstrap=False, max_depth=50, max_features=auto, min_samples_leaf=4, min_samples_split=2, n_estimators=180; total time=   0.5s\n",
      "[CV] END bootstrap=False, max_depth=50, max_features=auto, min_samples_leaf=4, min_samples_split=2, n_estimators=180; total time=   0.5s\n",
      "[CV] END bootstrap=False, max_depth=50, max_features=auto, min_samples_leaf=4, min_samples_split=2, n_estimators=180; total time=   0.5s\n",
      "[CV] END bootstrap=False, max_depth=50, max_features=auto, min_samples_leaf=4, min_samples_split=2, n_estimators=180; total time=   0.5s\n",
      "[CV] END bootstrap=False, max_depth=90, max_features=auto, min_samples_leaf=2, min_samples_split=10, n_estimators=180; total time=   0.5s\n",
      "[CV] END bootstrap=False, max_depth=90, max_features=auto, min_samples_leaf=2, min_samples_split=10, n_estimators=180; total time=   0.5s\n",
      "[CV] END bootstrap=False, max_depth=90, max_features=auto, min_samples_leaf=2, min_samples_split=10, n_estimators=180; total time=   0.5s\n",
      "[CV] END bootstrap=False, max_depth=90, max_features=auto, min_samples_leaf=2, min_samples_split=10, n_estimators=180; total time=   0.5s\n",
      "[CV] END bootstrap=False, max_depth=90, max_features=auto, min_samples_leaf=2, min_samples_split=10, n_estimators=180; total time=   0.5s\n",
      "[CV] END bootstrap=False, max_depth=10, max_features=auto, min_samples_leaf=2, min_samples_split=5, n_estimators=230; total time=   0.6s\n",
      "[CV] END bootstrap=False, max_depth=10, max_features=auto, min_samples_leaf=2, min_samples_split=5, n_estimators=230; total time=   0.5s\n",
      "[CV] END bootstrap=False, max_depth=10, max_features=auto, min_samples_leaf=2, min_samples_split=5, n_estimators=230; total time=   0.5s\n",
      "[CV] END bootstrap=False, max_depth=10, max_features=auto, min_samples_leaf=2, min_samples_split=5, n_estimators=230; total time=   0.6s\n",
      "[CV] END bootstrap=False, max_depth=10, max_features=auto, min_samples_leaf=2, min_samples_split=5, n_estimators=230; total time=   0.6s\n",
      "[CV] END bootstrap=False, max_depth=40, max_features=sqrt, min_samples_leaf=1, min_samples_split=10, n_estimators=230; total time=   0.6s\n",
      "[CV] END bootstrap=False, max_depth=40, max_features=sqrt, min_samples_leaf=1, min_samples_split=10, n_estimators=230; total time=   0.6s\n",
      "[CV] END bootstrap=False, max_depth=40, max_features=sqrt, min_samples_leaf=1, min_samples_split=10, n_estimators=230; total time=   0.6s\n",
      "[CV] END bootstrap=False, max_depth=40, max_features=sqrt, min_samples_leaf=1, min_samples_split=10, n_estimators=230; total time=   0.6s\n",
      "[CV] END bootstrap=False, max_depth=40, max_features=sqrt, min_samples_leaf=1, min_samples_split=10, n_estimators=230; total time=   0.6s\n",
      "[CV] END bootstrap=True, max_depth=None, max_features=sqrt, min_samples_leaf=4, min_samples_split=10, n_estimators=180; total time=   0.4s\n",
      "[CV] END bootstrap=True, max_depth=None, max_features=sqrt, min_samples_leaf=4, min_samples_split=10, n_estimators=180; total time=   0.4s\n",
      "[CV] END bootstrap=True, max_depth=None, max_features=sqrt, min_samples_leaf=4, min_samples_split=10, n_estimators=180; total time=   0.4s\n",
      "[CV] END bootstrap=True, max_depth=None, max_features=sqrt, min_samples_leaf=4, min_samples_split=10, n_estimators=180; total time=   0.4s\n",
      "[CV] END bootstrap=True, max_depth=None, max_features=sqrt, min_samples_leaf=4, min_samples_split=10, n_estimators=180; total time=   0.4s\n",
      "[CV] END bootstrap=True, max_depth=110, max_features=auto, min_samples_leaf=4, min_samples_split=2, n_estimators=130; total time=   0.3s\n",
      "[CV] END bootstrap=True, max_depth=110, max_features=auto, min_samples_leaf=4, min_samples_split=2, n_estimators=130; total time=   0.3s\n",
      "[CV] END bootstrap=True, max_depth=110, max_features=auto, min_samples_leaf=4, min_samples_split=2, n_estimators=130; total time=   0.3s\n",
      "[CV] END bootstrap=True, max_depth=110, max_features=auto, min_samples_leaf=4, min_samples_split=2, n_estimators=130; total time=   0.3s\n",
      "[CV] END bootstrap=True, max_depth=110, max_features=auto, min_samples_leaf=4, min_samples_split=2, n_estimators=130; total time=   0.3s\n",
      "[CV] END bootstrap=False, max_depth=100, max_features=auto, min_samples_leaf=4, min_samples_split=10, n_estimators=230; total time=   0.6s\n",
      "[CV] END bootstrap=False, max_depth=100, max_features=auto, min_samples_leaf=4, min_samples_split=10, n_estimators=230; total time=   0.6s\n",
      "[CV] END bootstrap=False, max_depth=100, max_features=auto, min_samples_leaf=4, min_samples_split=10, n_estimators=230; total time=   0.5s\n",
      "[CV] END bootstrap=False, max_depth=100, max_features=auto, min_samples_leaf=4, min_samples_split=10, n_estimators=230; total time=   0.5s\n",
      "[CV] END bootstrap=False, max_depth=100, max_features=auto, min_samples_leaf=4, min_samples_split=10, n_estimators=230; total time=   0.5s\n",
      "[CV] END bootstrap=True, max_depth=20, max_features=auto, min_samples_leaf=2, min_samples_split=5, n_estimators=130; total time=   0.3s\n",
      "[CV] END bootstrap=True, max_depth=20, max_features=auto, min_samples_leaf=2, min_samples_split=5, n_estimators=130; total time=   0.3s\n",
      "[CV] END bootstrap=True, max_depth=20, max_features=auto, min_samples_leaf=2, min_samples_split=5, n_estimators=130; total time=   0.3s\n",
      "[CV] END bootstrap=True, max_depth=20, max_features=auto, min_samples_leaf=2, min_samples_split=5, n_estimators=130; total time=   0.3s\n",
      "[CV] END bootstrap=True, max_depth=20, max_features=auto, min_samples_leaf=2, min_samples_split=5, n_estimators=130; total time=   0.3s\n",
      "[CV] END bootstrap=False, max_depth=None, max_features=auto, min_samples_leaf=2, min_samples_split=2, n_estimators=180; total time=   0.5s\n",
      "[CV] END bootstrap=False, max_depth=None, max_features=auto, min_samples_leaf=2, min_samples_split=2, n_estimators=180; total time=   0.5s\n",
      "[CV] END bootstrap=False, max_depth=None, max_features=auto, min_samples_leaf=2, min_samples_split=2, n_estimators=180; total time=   0.5s\n",
      "[CV] END bootstrap=False, max_depth=None, max_features=auto, min_samples_leaf=2, min_samples_split=2, n_estimators=180; total time=   0.5s\n",
      "[CV] END bootstrap=False, max_depth=None, max_features=auto, min_samples_leaf=2, min_samples_split=2, n_estimators=180; total time=   0.5s\n",
      "[CV] END bootstrap=False, max_depth=30, max_features=sqrt, min_samples_leaf=2, min_samples_split=2, n_estimators=230; total time=   0.6s\n",
      "[CV] END bootstrap=False, max_depth=30, max_features=sqrt, min_samples_leaf=2, min_samples_split=2, n_estimators=230; total time=   0.6s\n",
      "[CV] END bootstrap=False, max_depth=30, max_features=sqrt, min_samples_leaf=2, min_samples_split=2, n_estimators=230; total time=   0.6s\n",
      "[CV] END bootstrap=False, max_depth=30, max_features=sqrt, min_samples_leaf=2, min_samples_split=2, n_estimators=230; total time=   0.6s\n",
      "[CV] END bootstrap=False, max_depth=30, max_features=sqrt, min_samples_leaf=2, min_samples_split=2, n_estimators=230; total time=   0.6s\n"
     ]
    },
    {
     "data": {
      "text/plain": [
       "RandomizedSearchCV(cv=5, estimator=RandomForestClassifier(),\n",
       "                   param_distributions={'bootstrap': [True, False],\n",
       "                                        'max_depth': [10, 20, 30, 40, 50, 60,\n",
       "                                                      70, 80, 90, 100, 110,\n",
       "                                                      None],\n",
       "                                        'max_features': ['auto', 'sqrt'],\n",
       "                                        'min_samples_leaf': [1, 2, 4],\n",
       "                                        'min_samples_split': [2, 5, 10],\n",
       "                                        'n_estimators': [130, 180, 230]},\n",
       "                   scoring='accuracy', verbose=2)"
      ]
     },
     "execution_count": 90,
     "metadata": {},
     "output_type": "execute_result"
    }
   ],
   "source": [
    "cv.fit(dataset[0], dataset[2])"
   ]
  },
  {
   "cell_type": "code",
   "execution_count": 92,
   "metadata": {},
   "outputs": [
    {
     "name": "stdout",
     "output_type": "stream",
     "text": [
      "Best Params: {'n_estimators': 230, 'min_samples_split': 10, 'min_samples_leaf': 1, 'max_features': 'sqrt', 'max_depth': 40, 'bootstrap': False} \n",
      " Train acc: 0.8301369863013699 \n",
      " test acc: 0.8375912408759124\n"
     ]
    }
   ],
   "source": [
    "print('Best Params:', cv.best_params_, '\\n', 'Train acc:', cv.best_score_, '\\n', 'test acc:', cv.score(dataset[1], dataset[3]))"
   ]
  },
  {
   "cell_type": "markdown",
   "metadata": {},
   "source": [
    "## Decision Tree"
   ]
  },
  {
   "cell_type": "code",
   "execution_count": 98,
   "metadata": {},
   "outputs": [],
   "source": [
    "paras = {\n",
    "    'criterion':['gini','entropy'],\n",
    "    'max_depth':[4,5,6,7,8,9,10,11,12,15,20,30,40,50,70,90,120,150]\n",
    "}"
   ]
  },
  {
   "cell_type": "code",
   "execution_count": 100,
   "metadata": {},
   "outputs": [],
   "source": [
    "model = DecisionTreeClassifier()\n",
    "cv = GridSearchCV(model, paras, cv=5, verbose=2, scoring='accuracy')"
   ]
  },
  {
   "cell_type": "code",
   "execution_count": 101,
   "metadata": {},
   "outputs": [
    {
     "name": "stdout",
     "output_type": "stream",
     "text": [
      "Fitting 5 folds for each of 36 candidates, totalling 180 fits\n",
      "[CV] END ........................criterion=gini, max_depth=4; total time=   0.0s\n",
      "[CV] END ........................criterion=gini, max_depth=4; total time=   0.0s\n",
      "[CV] END ........................criterion=gini, max_depth=4; total time=   0.0s\n",
      "[CV] END ........................criterion=gini, max_depth=4; total time=   0.0s\n",
      "[CV] END ........................criterion=gini, max_depth=4; total time=   0.0s\n",
      "[CV] END ........................criterion=gini, max_depth=5; total time=   0.0s\n",
      "[CV] END ........................criterion=gini, max_depth=5; total time=   0.0s\n",
      "[CV] END ........................criterion=gini, max_depth=5; total time=   0.0s\n",
      "[CV] END ........................criterion=gini, max_depth=5; total time=   0.0s\n",
      "[CV] END ........................criterion=gini, max_depth=5; total time=   0.0s\n",
      "[CV] END ........................criterion=gini, max_depth=6; total time=   0.0s\n",
      "[CV] END ........................criterion=gini, max_depth=6; total time=   0.0s\n",
      "[CV] END ........................criterion=gini, max_depth=6; total time=   0.0s\n",
      "[CV] END ........................criterion=gini, max_depth=6; total time=   0.0s\n",
      "[CV] END ........................criterion=gini, max_depth=6; total time=   0.0s\n",
      "[CV] END ........................criterion=gini, max_depth=7; total time=   0.0s\n",
      "[CV] END ........................criterion=gini, max_depth=7; total time=   0.0s\n",
      "[CV] END ........................criterion=gini, max_depth=7; total time=   0.0s\n",
      "[CV] END ........................criterion=gini, max_depth=7; total time=   0.0s\n",
      "[CV] END ........................criterion=gini, max_depth=7; total time=   0.0s\n",
      "[CV] END ........................criterion=gini, max_depth=8; total time=   0.0s\n",
      "[CV] END ........................criterion=gini, max_depth=8; total time=   0.0s\n",
      "[CV] END ........................criterion=gini, max_depth=8; total time=   0.0s\n",
      "[CV] END ........................criterion=gini, max_depth=8; total time=   0.0s\n",
      "[CV] END ........................criterion=gini, max_depth=8; total time=   0.0s\n",
      "[CV] END ........................criterion=gini, max_depth=9; total time=   0.0s\n",
      "[CV] END ........................criterion=gini, max_depth=9; total time=   0.0s\n",
      "[CV] END ........................criterion=gini, max_depth=9; total time=   0.0s\n",
      "[CV] END ........................criterion=gini, max_depth=9; total time=   0.0s\n",
      "[CV] END ........................criterion=gini, max_depth=9; total time=   0.0s\n",
      "[CV] END .......................criterion=gini, max_depth=10; total time=   0.0s\n",
      "[CV] END .......................criterion=gini, max_depth=10; total time=   0.0s\n",
      "[CV] END .......................criterion=gini, max_depth=10; total time=   0.0s\n",
      "[CV] END .......................criterion=gini, max_depth=10; total time=   0.0s\n",
      "[CV] END .......................criterion=gini, max_depth=10; total time=   0.0s\n",
      "[CV] END .......................criterion=gini, max_depth=11; total time=   0.0s\n",
      "[CV] END .......................criterion=gini, max_depth=11; total time=   0.0s\n",
      "[CV] END .......................criterion=gini, max_depth=11; total time=   0.0s\n",
      "[CV] END .......................criterion=gini, max_depth=11; total time=   0.0s\n",
      "[CV] END .......................criterion=gini, max_depth=11; total time=   0.0s\n",
      "[CV] END .......................criterion=gini, max_depth=12; total time=   0.0s\n",
      "[CV] END .......................criterion=gini, max_depth=12; total time=   0.0s\n",
      "[CV] END .......................criterion=gini, max_depth=12; total time=   0.0s\n",
      "[CV] END .......................criterion=gini, max_depth=12; total time=   0.0s\n",
      "[CV] END .......................criterion=gini, max_depth=12; total time=   0.0s\n",
      "[CV] END .......................criterion=gini, max_depth=15; total time=   0.0s\n",
      "[CV] END .......................criterion=gini, max_depth=15; total time=   0.0s\n",
      "[CV] END .......................criterion=gini, max_depth=15; total time=   0.0s\n",
      "[CV] END .......................criterion=gini, max_depth=15; total time=   0.0s\n",
      "[CV] END .......................criterion=gini, max_depth=15; total time=   0.0s\n",
      "[CV] END .......................criterion=gini, max_depth=20; total time=   0.0s\n",
      "[CV] END .......................criterion=gini, max_depth=20; total time=   0.0s\n",
      "[CV] END .......................criterion=gini, max_depth=20; total time=   0.0s\n",
      "[CV] END .......................criterion=gini, max_depth=20; total time=   0.0s\n",
      "[CV] END .......................criterion=gini, max_depth=20; total time=   0.0s\n",
      "[CV] END .......................criterion=gini, max_depth=30; total time=   0.0s\n",
      "[CV] END .......................criterion=gini, max_depth=30; total time=   0.0s\n",
      "[CV] END .......................criterion=gini, max_depth=30; total time=   0.0s\n",
      "[CV] END .......................criterion=gini, max_depth=30; total time=   0.0s\n",
      "[CV] END .......................criterion=gini, max_depth=30; total time=   0.0s\n",
      "[CV] END .......................criterion=gini, max_depth=40; total time=   0.0s\n",
      "[CV] END .......................criterion=gini, max_depth=40; total time=   0.0s\n",
      "[CV] END .......................criterion=gini, max_depth=40; total time=   0.0s\n",
      "[CV] END .......................criterion=gini, max_depth=40; total time=   0.0s\n",
      "[CV] END .......................criterion=gini, max_depth=40; total time=   0.0s\n",
      "[CV] END .......................criterion=gini, max_depth=50; total time=   0.0s\n",
      "[CV] END .......................criterion=gini, max_depth=50; total time=   0.0s\n",
      "[CV] END .......................criterion=gini, max_depth=50; total time=   0.0s\n",
      "[CV] END .......................criterion=gini, max_depth=50; total time=   0.0s\n",
      "[CV] END .......................criterion=gini, max_depth=50; total time=   0.0s\n",
      "[CV] END .......................criterion=gini, max_depth=70; total time=   0.0s\n",
      "[CV] END .......................criterion=gini, max_depth=70; total time=   0.0s\n",
      "[CV] END .......................criterion=gini, max_depth=70; total time=   0.0s\n",
      "[CV] END .......................criterion=gini, max_depth=70; total time=   0.0s\n",
      "[CV] END .......................criterion=gini, max_depth=70; total time=   0.0s\n",
      "[CV] END .......................criterion=gini, max_depth=90; total time=   0.0s\n",
      "[CV] END .......................criterion=gini, max_depth=90; total time=   0.0s\n",
      "[CV] END .......................criterion=gini, max_depth=90; total time=   0.0s\n",
      "[CV] END .......................criterion=gini, max_depth=90; total time=   0.0s\n",
      "[CV] END .......................criterion=gini, max_depth=90; total time=   0.0s\n",
      "[CV] END ......................criterion=gini, max_depth=120; total time=   0.0s\n",
      "[CV] END ......................criterion=gini, max_depth=120; total time=   0.0s\n",
      "[CV] END ......................criterion=gini, max_depth=120; total time=   0.0s\n",
      "[CV] END ......................criterion=gini, max_depth=120; total time=   0.0s\n",
      "[CV] END ......................criterion=gini, max_depth=120; total time=   0.0s\n",
      "[CV] END ......................criterion=gini, max_depth=150; total time=   0.0s\n",
      "[CV] END ......................criterion=gini, max_depth=150; total time=   0.0s\n",
      "[CV] END ......................criterion=gini, max_depth=150; total time=   0.0s\n",
      "[CV] END ......................criterion=gini, max_depth=150; total time=   0.0s\n",
      "[CV] END ......................criterion=gini, max_depth=150; total time=   0.0s\n",
      "[CV] END .....................criterion=entropy, max_depth=4; total time=   0.0s\n",
      "[CV] END .....................criterion=entropy, max_depth=4; total time=   0.0s\n",
      "[CV] END .....................criterion=entropy, max_depth=4; total time=   0.0s\n",
      "[CV] END .....................criterion=entropy, max_depth=4; total time=   0.0s\n",
      "[CV] END .....................criterion=entropy, max_depth=4; total time=   0.0s\n",
      "[CV] END .....................criterion=entropy, max_depth=5; total time=   0.0s\n",
      "[CV] END .....................criterion=entropy, max_depth=5; total time=   0.0s\n",
      "[CV] END .....................criterion=entropy, max_depth=5; total time=   0.0s\n",
      "[CV] END .....................criterion=entropy, max_depth=5; total time=   0.0s\n",
      "[CV] END .....................criterion=entropy, max_depth=5; total time=   0.0s\n",
      "[CV] END .....................criterion=entropy, max_depth=6; total time=   0.0s\n",
      "[CV] END .....................criterion=entropy, max_depth=6; total time=   0.0s\n",
      "[CV] END .....................criterion=entropy, max_depth=6; total time=   0.0s\n",
      "[CV] END .....................criterion=entropy, max_depth=6; total time=   0.0s\n",
      "[CV] END .....................criterion=entropy, max_depth=6; total time=   0.0s\n",
      "[CV] END .....................criterion=entropy, max_depth=7; total time=   0.0s\n",
      "[CV] END .....................criterion=entropy, max_depth=7; total time=   0.0s\n",
      "[CV] END .....................criterion=entropy, max_depth=7; total time=   0.0s\n",
      "[CV] END .....................criterion=entropy, max_depth=7; total time=   0.0s\n",
      "[CV] END .....................criterion=entropy, max_depth=7; total time=   0.0s\n",
      "[CV] END .....................criterion=entropy, max_depth=8; total time=   0.0s\n",
      "[CV] END .....................criterion=entropy, max_depth=8; total time=   0.0s\n",
      "[CV] END .....................criterion=entropy, max_depth=8; total time=   0.0s\n",
      "[CV] END .....................criterion=entropy, max_depth=8; total time=   0.0s\n",
      "[CV] END .....................criterion=entropy, max_depth=8; total time=   0.0s\n",
      "[CV] END .....................criterion=entropy, max_depth=9; total time=   0.0s\n",
      "[CV] END .....................criterion=entropy, max_depth=9; total time=   0.0s\n",
      "[CV] END .....................criterion=entropy, max_depth=9; total time=   0.0s\n",
      "[CV] END .....................criterion=entropy, max_depth=9; total time=   0.0s\n",
      "[CV] END .....................criterion=entropy, max_depth=9; total time=   0.0s\n",
      "[CV] END ....................criterion=entropy, max_depth=10; total time=   0.0s\n",
      "[CV] END ....................criterion=entropy, max_depth=10; total time=   0.0s\n",
      "[CV] END ....................criterion=entropy, max_depth=10; total time=   0.0s\n",
      "[CV] END ....................criterion=entropy, max_depth=10; total time=   0.0s\n",
      "[CV] END ....................criterion=entropy, max_depth=10; total time=   0.0s\n",
      "[CV] END ....................criterion=entropy, max_depth=11; total time=   0.0s\n",
      "[CV] END ....................criterion=entropy, max_depth=11; total time=   0.0s\n",
      "[CV] END ....................criterion=entropy, max_depth=11; total time=   0.0s\n",
      "[CV] END ....................criterion=entropy, max_depth=11; total time=   0.0s\n",
      "[CV] END ....................criterion=entropy, max_depth=11; total time=   0.0s\n",
      "[CV] END ....................criterion=entropy, max_depth=12; total time=   0.0s\n",
      "[CV] END ....................criterion=entropy, max_depth=12; total time=   0.0s\n",
      "[CV] END ....................criterion=entropy, max_depth=12; total time=   0.0s\n",
      "[CV] END ....................criterion=entropy, max_depth=12; total time=   0.0s\n",
      "[CV] END ....................criterion=entropy, max_depth=12; total time=   0.0s\n",
      "[CV] END ....................criterion=entropy, max_depth=15; total time=   0.0s\n",
      "[CV] END ....................criterion=entropy, max_depth=15; total time=   0.0s\n",
      "[CV] END ....................criterion=entropy, max_depth=15; total time=   0.0s\n",
      "[CV] END ....................criterion=entropy, max_depth=15; total time=   0.0s\n",
      "[CV] END ....................criterion=entropy, max_depth=15; total time=   0.0s\n",
      "[CV] END ....................criterion=entropy, max_depth=20; total time=   0.0s\n",
      "[CV] END ....................criterion=entropy, max_depth=20; total time=   0.0s\n",
      "[CV] END ....................criterion=entropy, max_depth=20; total time=   0.0s\n",
      "[CV] END ....................criterion=entropy, max_depth=20; total time=   0.0s\n",
      "[CV] END ....................criterion=entropy, max_depth=20; total time=   0.0s\n",
      "[CV] END ....................criterion=entropy, max_depth=30; total time=   0.0s\n",
      "[CV] END ....................criterion=entropy, max_depth=30; total time=   0.0s\n",
      "[CV] END ....................criterion=entropy, max_depth=30; total time=   0.0s\n",
      "[CV] END ....................criterion=entropy, max_depth=30; total time=   0.0s\n",
      "[CV] END ....................criterion=entropy, max_depth=30; total time=   0.0s\n",
      "[CV] END ....................criterion=entropy, max_depth=40; total time=   0.0s\n",
      "[CV] END ....................criterion=entropy, max_depth=40; total time=   0.0s\n",
      "[CV] END ....................criterion=entropy, max_depth=40; total time=   0.0s\n",
      "[CV] END ....................criterion=entropy, max_depth=40; total time=   0.0s\n",
      "[CV] END ....................criterion=entropy, max_depth=40; total time=   0.0s\n",
      "[CV] END ....................criterion=entropy, max_depth=50; total time=   0.0s\n",
      "[CV] END ....................criterion=entropy, max_depth=50; total time=   0.0s\n",
      "[CV] END ....................criterion=entropy, max_depth=50; total time=   0.0s\n",
      "[CV] END ....................criterion=entropy, max_depth=50; total time=   0.0s\n",
      "[CV] END ....................criterion=entropy, max_depth=50; total time=   0.0s\n",
      "[CV] END ....................criterion=entropy, max_depth=70; total time=   0.0s\n",
      "[CV] END ....................criterion=entropy, max_depth=70; total time=   0.0s\n",
      "[CV] END ....................criterion=entropy, max_depth=70; total time=   0.0s\n",
      "[CV] END ....................criterion=entropy, max_depth=70; total time=   0.0s\n",
      "[CV] END ....................criterion=entropy, max_depth=70; total time=   0.0s\n",
      "[CV] END ....................criterion=entropy, max_depth=90; total time=   0.0s\n",
      "[CV] END ....................criterion=entropy, max_depth=90; total time=   0.0s\n",
      "[CV] END ....................criterion=entropy, max_depth=90; total time=   0.0s\n",
      "[CV] END ....................criterion=entropy, max_depth=90; total time=   0.0s\n",
      "[CV] END ....................criterion=entropy, max_depth=90; total time=   0.0s\n",
      "[CV] END ...................criterion=entropy, max_depth=120; total time=   0.0s\n",
      "[CV] END ...................criterion=entropy, max_depth=120; total time=   0.0s\n",
      "[CV] END ...................criterion=entropy, max_depth=120; total time=   0.0s\n",
      "[CV] END ...................criterion=entropy, max_depth=120; total time=   0.0s\n",
      "[CV] END ...................criterion=entropy, max_depth=120; total time=   0.0s\n",
      "[CV] END ...................criterion=entropy, max_depth=150; total time=   0.0s\n",
      "[CV] END ...................criterion=entropy, max_depth=150; total time=   0.0s\n",
      "[CV] END ...................criterion=entropy, max_depth=150; total time=   0.0s\n",
      "[CV] END ...................criterion=entropy, max_depth=150; total time=   0.0s\n",
      "[CV] END ...................criterion=entropy, max_depth=150; total time=   0.0s\n"
     ]
    },
    {
     "data": {
      "text/plain": [
       "GridSearchCV(cv=5, estimator=DecisionTreeClassifier(),\n",
       "             param_grid={'criterion': ['gini', 'entropy'],\n",
       "                         'max_depth': [4, 5, 6, 7, 8, 9, 10, 11, 12, 15, 20, 30,\n",
       "                                       40, 50, 70, 90, 120, 150]},\n",
       "             scoring='accuracy', verbose=2)"
      ]
     },
     "execution_count": 101,
     "metadata": {},
     "output_type": "execute_result"
    }
   ],
   "source": [
    "cv.fit(dataset[0], dataset[2])"
   ]
  },
  {
   "cell_type": "code",
   "execution_count": 102,
   "metadata": {},
   "outputs": [
    {
     "name": "stdout",
     "output_type": "stream",
     "text": [
      "Best Params: {'criterion': 'entropy', 'max_depth': 40} \n",
      " Train acc: 0.8228310502283105 \n",
      " test acc: 0.8156934306569343\n"
     ]
    }
   ],
   "source": [
    "print('Best Params:', cv.best_params_, '\\n', 'Train acc:', cv.best_score_, '\\n', 'test acc:', cv.score(dataset[1], dataset[3]))"
   ]
  },
  {
   "cell_type": "markdown",
   "metadata": {},
   "source": [
    "## KNN"
   ]
  },
  {
   "cell_type": "code",
   "execution_count": 106,
   "metadata": {},
   "outputs": [],
   "source": [
    "paras = {\n",
    "    'leaf_size': [10, 20, 30, 40, 50],\n",
    "    'n_neighbors': [3, 5, 7, 9]\n",
    "}"
   ]
  },
  {
   "cell_type": "code",
   "execution_count": 107,
   "metadata": {},
   "outputs": [],
   "source": [
    "model = KNeighborsClassifier()\n",
    "cv = GridSearchCV(model, paras, cv=5, verbose=2, scoring='accuracy')"
   ]
  },
  {
   "cell_type": "code",
   "execution_count": 108,
   "metadata": {},
   "outputs": [
    {
     "name": "stdout",
     "output_type": "stream",
     "text": [
      "Fitting 5 folds for each of 20 candidates, totalling 100 fits\n",
      "[CV] END ........................leaf_size=10, n_neighbors=3; total time=   0.0s\n",
      "[CV] END ........................leaf_size=10, n_neighbors=3; total time=   0.0s\n",
      "[CV] END ........................leaf_size=10, n_neighbors=3; total time=   0.0s\n",
      "[CV] END ........................leaf_size=10, n_neighbors=3; total time=   0.0s\n",
      "[CV] END ........................leaf_size=10, n_neighbors=3; total time=   0.0s\n",
      "[CV] END ........................leaf_size=10, n_neighbors=5; total time=   0.0s\n",
      "[CV] END ........................leaf_size=10, n_neighbors=5; total time=   0.0s\n",
      "[CV] END ........................leaf_size=10, n_neighbors=5; total time=   0.0s\n",
      "[CV] END ........................leaf_size=10, n_neighbors=5; total time=   0.0s\n",
      "[CV] END ........................leaf_size=10, n_neighbors=5; total time=   0.0s\n",
      "[CV] END ........................leaf_size=10, n_neighbors=7; total time=   0.0s\n",
      "[CV] END ........................leaf_size=10, n_neighbors=7; total time=   0.0s\n",
      "[CV] END ........................leaf_size=10, n_neighbors=7; total time=   0.0s\n",
      "[CV] END ........................leaf_size=10, n_neighbors=7; total time=   0.0s\n",
      "[CV] END ........................leaf_size=10, n_neighbors=7; total time=   0.0s\n",
      "[CV] END ........................leaf_size=10, n_neighbors=9; total time=   0.0s\n",
      "[CV] END ........................leaf_size=10, n_neighbors=9; total time=   0.0s\n",
      "[CV] END ........................leaf_size=10, n_neighbors=9; total time=   0.0s\n",
      "[CV] END ........................leaf_size=10, n_neighbors=9; total time=   0.0s\n",
      "[CV] END ........................leaf_size=10, n_neighbors=9; total time=   0.0s\n",
      "[CV] END ........................leaf_size=20, n_neighbors=3; total time=   0.0s\n",
      "[CV] END ........................leaf_size=20, n_neighbors=3; total time=   0.0s\n",
      "[CV] END ........................leaf_size=20, n_neighbors=3; total time=   0.0s\n",
      "[CV] END ........................leaf_size=20, n_neighbors=3; total time=   0.0s\n",
      "[CV] END ........................leaf_size=20, n_neighbors=3; total time=   0.0s\n",
      "[CV] END ........................leaf_size=20, n_neighbors=5; total time=   0.0s\n",
      "[CV] END ........................leaf_size=20, n_neighbors=5; total time=   0.0s\n",
      "[CV] END ........................leaf_size=20, n_neighbors=5; total time=   0.0s\n",
      "[CV] END ........................leaf_size=20, n_neighbors=5; total time=   0.0s\n",
      "[CV] END ........................leaf_size=20, n_neighbors=5; total time=   0.0s\n",
      "[CV] END ........................leaf_size=20, n_neighbors=7; total time=   0.0s\n",
      "[CV] END ........................leaf_size=20, n_neighbors=7; total time=   0.0s\n",
      "[CV] END ........................leaf_size=20, n_neighbors=7; total time=   0.0s\n",
      "[CV] END ........................leaf_size=20, n_neighbors=7; total time=   0.0s\n",
      "[CV] END ........................leaf_size=20, n_neighbors=7; total time=   0.0s\n",
      "[CV] END ........................leaf_size=20, n_neighbors=9; total time=   0.0s\n",
      "[CV] END ........................leaf_size=20, n_neighbors=9; total time=   0.0s\n",
      "[CV] END ........................leaf_size=20, n_neighbors=9; total time=   0.0s\n",
      "[CV] END ........................leaf_size=20, n_neighbors=9; total time=   0.0s\n",
      "[CV] END ........................leaf_size=20, n_neighbors=9; total time=   0.0s\n",
      "[CV] END ........................leaf_size=30, n_neighbors=3; total time=   0.0s\n",
      "[CV] END ........................leaf_size=30, n_neighbors=3; total time=   0.0s\n",
      "[CV] END ........................leaf_size=30, n_neighbors=3; total time=   0.0s\n",
      "[CV] END ........................leaf_size=30, n_neighbors=3; total time=   0.0s\n",
      "[CV] END ........................leaf_size=30, n_neighbors=3; total time=   0.0s\n",
      "[CV] END ........................leaf_size=30, n_neighbors=5; total time=   0.0s\n",
      "[CV] END ........................leaf_size=30, n_neighbors=5; total time=   0.0s\n",
      "[CV] END ........................leaf_size=30, n_neighbors=5; total time=   0.0s\n",
      "[CV] END ........................leaf_size=30, n_neighbors=5; total time=   0.0s\n",
      "[CV] END ........................leaf_size=30, n_neighbors=5; total time=   0.0s\n",
      "[CV] END ........................leaf_size=30, n_neighbors=7; total time=   0.0s\n",
      "[CV] END ........................leaf_size=30, n_neighbors=7; total time=   0.0s\n",
      "[CV] END ........................leaf_size=30, n_neighbors=7; total time=   0.0s\n",
      "[CV] END ........................leaf_size=30, n_neighbors=7; total time=   0.0s\n",
      "[CV] END ........................leaf_size=30, n_neighbors=7; total time=   0.0s\n",
      "[CV] END ........................leaf_size=30, n_neighbors=9; total time=   0.0s\n",
      "[CV] END ........................leaf_size=30, n_neighbors=9; total time=   0.0s\n",
      "[CV] END ........................leaf_size=30, n_neighbors=9; total time=   0.0s\n",
      "[CV] END ........................leaf_size=30, n_neighbors=9; total time=   0.0s\n",
      "[CV] END ........................leaf_size=30, n_neighbors=9; total time=   0.0s\n",
      "[CV] END ........................leaf_size=40, n_neighbors=3; total time=   0.0s\n",
      "[CV] END ........................leaf_size=40, n_neighbors=3; total time=   0.0s\n",
      "[CV] END ........................leaf_size=40, n_neighbors=3; total time=   0.0s\n",
      "[CV] END ........................leaf_size=40, n_neighbors=3; total time=   0.0s\n",
      "[CV] END ........................leaf_size=40, n_neighbors=3; total time=   0.0s\n",
      "[CV] END ........................leaf_size=40, n_neighbors=5; total time=   0.0s\n",
      "[CV] END ........................leaf_size=40, n_neighbors=5; total time=   0.0s\n",
      "[CV] END ........................leaf_size=40, n_neighbors=5; total time=   0.0s\n",
      "[CV] END ........................leaf_size=40, n_neighbors=5; total time=   0.0s\n",
      "[CV] END ........................leaf_size=40, n_neighbors=5; total time=   0.0s\n",
      "[CV] END ........................leaf_size=40, n_neighbors=7; total time=   0.0s\n",
      "[CV] END ........................leaf_size=40, n_neighbors=7; total time=   0.0s\n",
      "[CV] END ........................leaf_size=40, n_neighbors=7; total time=   0.0s\n",
      "[CV] END ........................leaf_size=40, n_neighbors=7; total time=   0.0s\n",
      "[CV] END ........................leaf_size=40, n_neighbors=7; total time=   0.0s\n",
      "[CV] END ........................leaf_size=40, n_neighbors=9; total time=   0.0s\n",
      "[CV] END ........................leaf_size=40, n_neighbors=9; total time=   0.0s\n",
      "[CV] END ........................leaf_size=40, n_neighbors=9; total time=   0.0s\n",
      "[CV] END ........................leaf_size=40, n_neighbors=9; total time=   0.0s\n",
      "[CV] END ........................leaf_size=40, n_neighbors=9; total time=   0.0s\n",
      "[CV] END ........................leaf_size=50, n_neighbors=3; total time=   0.0s\n",
      "[CV] END ........................leaf_size=50, n_neighbors=3; total time=   0.0s\n",
      "[CV] END ........................leaf_size=50, n_neighbors=3; total time=   0.0s\n",
      "[CV] END ........................leaf_size=50, n_neighbors=3; total time=   0.0s\n",
      "[CV] END ........................leaf_size=50, n_neighbors=3; total time=   0.0s\n",
      "[CV] END ........................leaf_size=50, n_neighbors=5; total time=   0.0s\n",
      "[CV] END ........................leaf_size=50, n_neighbors=5; total time=   0.0s\n",
      "[CV] END ........................leaf_size=50, n_neighbors=5; total time=   0.0s\n",
      "[CV] END ........................leaf_size=50, n_neighbors=5; total time=   0.0s\n",
      "[CV] END ........................leaf_size=50, n_neighbors=5; total time=   0.0s\n",
      "[CV] END ........................leaf_size=50, n_neighbors=7; total time=   0.0s\n",
      "[CV] END ........................leaf_size=50, n_neighbors=7; total time=   0.0s\n",
      "[CV] END ........................leaf_size=50, n_neighbors=7; total time=   0.0s\n",
      "[CV] END ........................leaf_size=50, n_neighbors=7; total time=   0.0s\n",
      "[CV] END ........................leaf_size=50, n_neighbors=7; total time=   0.0s\n",
      "[CV] END ........................leaf_size=50, n_neighbors=9; total time=   0.0s\n",
      "[CV] END ........................leaf_size=50, n_neighbors=9; total time=   0.0s\n",
      "[CV] END ........................leaf_size=50, n_neighbors=9; total time=   0.0s\n",
      "[CV] END ........................leaf_size=50, n_neighbors=9; total time=   0.0s\n",
      "[CV] END ........................leaf_size=50, n_neighbors=9; total time=   0.0s\n"
     ]
    },
    {
     "data": {
      "text/plain": [
       "GridSearchCV(cv=5, estimator=KNeighborsClassifier(),\n",
       "             param_grid={'leaf_size': [10, 20, 30, 40, 50],\n",
       "                         'n_neighbors': [3, 5, 7, 9]},\n",
       "             scoring='accuracy', verbose=2)"
      ]
     },
     "execution_count": 108,
     "metadata": {},
     "output_type": "execute_result"
    }
   ],
   "source": [
    "cv.fit(dataset[0], dataset[2])"
   ]
  },
  {
   "cell_type": "code",
   "execution_count": 109,
   "metadata": {},
   "outputs": [
    {
     "name": "stdout",
     "output_type": "stream",
     "text": [
      "Best Params: {'leaf_size': 10, 'n_neighbors': 5} \n",
      " Train acc: 0.7470319634703196 \n",
      " test acc: 0.7536496350364964\n"
     ]
    }
   ],
   "source": [
    "print('Best Params:', cv.best_params_, '\\n', 'Train acc:', cv.best_score_, '\\n', 'test acc:', cv.score(dataset[1], dataset[3]))"
   ]
  },
  {
   "cell_type": "markdown",
   "metadata": {},
   "source": [
    "## Naive Bayes"
   ]
  },
  {
   "cell_type": "code",
   "execution_count": null,
   "metadata": {},
   "outputs": [],
   "source": [
    "paras = {\n",
    "    \n",
    "}"
   ]
  },
  {
   "cell_type": "code",
   "execution_count": 110,
   "metadata": {},
   "outputs": [],
   "source": [
    "model = GaussianNB()\n",
    "cv = GridSearchCV(model, paras, cv=5, verbose=2, scoring='accuracy')"
   ]
  },
  {
   "cell_type": "code",
   "execution_count": 111,
   "metadata": {},
   "outputs": [
    {
     "data": {
      "text/plain": [
       "{'priors': None, 'var_smoothing': 1e-09}"
      ]
     },
     "execution_count": 111,
     "metadata": {},
     "output_type": "execute_result"
    }
   ],
   "source": [
    "model.get_params()"
   ]
  },
  {
   "cell_type": "code",
   "execution_count": 112,
   "metadata": {},
   "outputs": [
    {
     "name": "stdout",
     "output_type": "stream",
     "text": [
      "Fitting 5 folds for each of 20 candidates, totalling 100 fits\n"
     ]
    },
    {
     "ename": "ValueError",
     "evalue": "Invalid parameter leaf_size for estimator GaussianNB(). Check the list of available parameters with `estimator.get_params().keys()`.",
     "output_type": "error",
     "traceback": [
      "\u001b[0;31m---------------------------------------------------------------------------\u001b[0m",
      "\u001b[0;31mValueError\u001b[0m                                Traceback (most recent call last)",
      "\u001b[0;32m/tmp/ipykernel_15247/775868752.py\u001b[0m in \u001b[0;36m<module>\u001b[0;34m\u001b[0m\n\u001b[0;32m----> 1\u001b[0;31m \u001b[0mcv\u001b[0m\u001b[0;34m.\u001b[0m\u001b[0mfit\u001b[0m\u001b[0;34m(\u001b[0m\u001b[0mdataset\u001b[0m\u001b[0;34m[\u001b[0m\u001b[0;36m0\u001b[0m\u001b[0;34m]\u001b[0m\u001b[0;34m,\u001b[0m \u001b[0mdataset\u001b[0m\u001b[0;34m[\u001b[0m\u001b[0;36m2\u001b[0m\u001b[0;34m]\u001b[0m\u001b[0;34m)\u001b[0m\u001b[0;34m\u001b[0m\u001b[0;34m\u001b[0m\u001b[0m\n\u001b[0m",
      "\u001b[0;32m~/Desktop/Deep-Learning/deep-learning/lib/python3.8/site-packages/sklearn/model_selection/_search.py\u001b[0m in \u001b[0;36mfit\u001b[0;34m(self, X, y, groups, **fit_params)\u001b[0m\n\u001b[1;32m    889\u001b[0m                 \u001b[0;32mreturn\u001b[0m \u001b[0mresults\u001b[0m\u001b[0;34m\u001b[0m\u001b[0;34m\u001b[0m\u001b[0m\n\u001b[1;32m    890\u001b[0m \u001b[0;34m\u001b[0m\u001b[0m\n\u001b[0;32m--> 891\u001b[0;31m             \u001b[0mself\u001b[0m\u001b[0;34m.\u001b[0m\u001b[0m_run_search\u001b[0m\u001b[0;34m(\u001b[0m\u001b[0mevaluate_candidates\u001b[0m\u001b[0;34m)\u001b[0m\u001b[0;34m\u001b[0m\u001b[0;34m\u001b[0m\u001b[0m\n\u001b[0m\u001b[1;32m    892\u001b[0m \u001b[0;34m\u001b[0m\u001b[0m\n\u001b[1;32m    893\u001b[0m             \u001b[0;31m# multimetric is determined here because in the case of a callable\u001b[0m\u001b[0;34m\u001b[0m\u001b[0;34m\u001b[0m\u001b[0;34m\u001b[0m\u001b[0m\n",
      "\u001b[0;32m~/Desktop/Deep-Learning/deep-learning/lib/python3.8/site-packages/sklearn/model_selection/_search.py\u001b[0m in \u001b[0;36m_run_search\u001b[0;34m(self, evaluate_candidates)\u001b[0m\n\u001b[1;32m   1390\u001b[0m     \u001b[0;32mdef\u001b[0m \u001b[0m_run_search\u001b[0m\u001b[0;34m(\u001b[0m\u001b[0mself\u001b[0m\u001b[0;34m,\u001b[0m \u001b[0mevaluate_candidates\u001b[0m\u001b[0;34m)\u001b[0m\u001b[0;34m:\u001b[0m\u001b[0;34m\u001b[0m\u001b[0;34m\u001b[0m\u001b[0m\n\u001b[1;32m   1391\u001b[0m         \u001b[0;34m\"\"\"Search all candidates in param_grid\"\"\"\u001b[0m\u001b[0;34m\u001b[0m\u001b[0;34m\u001b[0m\u001b[0m\n\u001b[0;32m-> 1392\u001b[0;31m         \u001b[0mevaluate_candidates\u001b[0m\u001b[0;34m(\u001b[0m\u001b[0mParameterGrid\u001b[0m\u001b[0;34m(\u001b[0m\u001b[0mself\u001b[0m\u001b[0;34m.\u001b[0m\u001b[0mparam_grid\u001b[0m\u001b[0;34m)\u001b[0m\u001b[0;34m)\u001b[0m\u001b[0;34m\u001b[0m\u001b[0;34m\u001b[0m\u001b[0m\n\u001b[0m\u001b[1;32m   1393\u001b[0m \u001b[0;34m\u001b[0m\u001b[0m\n\u001b[1;32m   1394\u001b[0m \u001b[0;34m\u001b[0m\u001b[0m\n",
      "\u001b[0;32m~/Desktop/Deep-Learning/deep-learning/lib/python3.8/site-packages/sklearn/model_selection/_search.py\u001b[0m in \u001b[0;36mevaluate_candidates\u001b[0;34m(candidate_params, cv, more_results)\u001b[0m\n\u001b[1;32m    836\u001b[0m                     )\n\u001b[1;32m    837\u001b[0m \u001b[0;34m\u001b[0m\u001b[0m\n\u001b[0;32m--> 838\u001b[0;31m                 out = parallel(\n\u001b[0m\u001b[1;32m    839\u001b[0m                     delayed(_fit_and_score)(\n\u001b[1;32m    840\u001b[0m                         \u001b[0mclone\u001b[0m\u001b[0;34m(\u001b[0m\u001b[0mbase_estimator\u001b[0m\u001b[0;34m)\u001b[0m\u001b[0;34m,\u001b[0m\u001b[0;34m\u001b[0m\u001b[0;34m\u001b[0m\u001b[0m\n",
      "\u001b[0;32m~/Desktop/Deep-Learning/deep-learning/lib/python3.8/site-packages/joblib/parallel.py\u001b[0m in \u001b[0;36m__call__\u001b[0;34m(self, iterable)\u001b[0m\n\u001b[1;32m   1041\u001b[0m             \u001b[0;31m# remaining jobs.\u001b[0m\u001b[0;34m\u001b[0m\u001b[0;34m\u001b[0m\u001b[0;34m\u001b[0m\u001b[0m\n\u001b[1;32m   1042\u001b[0m             \u001b[0mself\u001b[0m\u001b[0;34m.\u001b[0m\u001b[0m_iterating\u001b[0m \u001b[0;34m=\u001b[0m \u001b[0;32mFalse\u001b[0m\u001b[0;34m\u001b[0m\u001b[0;34m\u001b[0m\u001b[0m\n\u001b[0;32m-> 1043\u001b[0;31m             \u001b[0;32mif\u001b[0m \u001b[0mself\u001b[0m\u001b[0;34m.\u001b[0m\u001b[0mdispatch_one_batch\u001b[0m\u001b[0;34m(\u001b[0m\u001b[0miterator\u001b[0m\u001b[0;34m)\u001b[0m\u001b[0;34m:\u001b[0m\u001b[0;34m\u001b[0m\u001b[0;34m\u001b[0m\u001b[0m\n\u001b[0m\u001b[1;32m   1044\u001b[0m                 \u001b[0mself\u001b[0m\u001b[0;34m.\u001b[0m\u001b[0m_iterating\u001b[0m \u001b[0;34m=\u001b[0m \u001b[0mself\u001b[0m\u001b[0;34m.\u001b[0m\u001b[0m_original_iterator\u001b[0m \u001b[0;32mis\u001b[0m \u001b[0;32mnot\u001b[0m \u001b[0;32mNone\u001b[0m\u001b[0;34m\u001b[0m\u001b[0;34m\u001b[0m\u001b[0m\n\u001b[1;32m   1045\u001b[0m \u001b[0;34m\u001b[0m\u001b[0m\n",
      "\u001b[0;32m~/Desktop/Deep-Learning/deep-learning/lib/python3.8/site-packages/joblib/parallel.py\u001b[0m in \u001b[0;36mdispatch_one_batch\u001b[0;34m(self, iterator)\u001b[0m\n\u001b[1;32m    859\u001b[0m                 \u001b[0;32mreturn\u001b[0m \u001b[0;32mFalse\u001b[0m\u001b[0;34m\u001b[0m\u001b[0;34m\u001b[0m\u001b[0m\n\u001b[1;32m    860\u001b[0m             \u001b[0;32melse\u001b[0m\u001b[0;34m:\u001b[0m\u001b[0;34m\u001b[0m\u001b[0;34m\u001b[0m\u001b[0m\n\u001b[0;32m--> 861\u001b[0;31m                 \u001b[0mself\u001b[0m\u001b[0;34m.\u001b[0m\u001b[0m_dispatch\u001b[0m\u001b[0;34m(\u001b[0m\u001b[0mtasks\u001b[0m\u001b[0;34m)\u001b[0m\u001b[0;34m\u001b[0m\u001b[0;34m\u001b[0m\u001b[0m\n\u001b[0m\u001b[1;32m    862\u001b[0m                 \u001b[0;32mreturn\u001b[0m \u001b[0;32mTrue\u001b[0m\u001b[0;34m\u001b[0m\u001b[0;34m\u001b[0m\u001b[0m\n\u001b[1;32m    863\u001b[0m \u001b[0;34m\u001b[0m\u001b[0m\n",
      "\u001b[0;32m~/Desktop/Deep-Learning/deep-learning/lib/python3.8/site-packages/joblib/parallel.py\u001b[0m in \u001b[0;36m_dispatch\u001b[0;34m(self, batch)\u001b[0m\n\u001b[1;32m    777\u001b[0m         \u001b[0;32mwith\u001b[0m \u001b[0mself\u001b[0m\u001b[0;34m.\u001b[0m\u001b[0m_lock\u001b[0m\u001b[0;34m:\u001b[0m\u001b[0;34m\u001b[0m\u001b[0;34m\u001b[0m\u001b[0m\n\u001b[1;32m    778\u001b[0m             \u001b[0mjob_idx\u001b[0m \u001b[0;34m=\u001b[0m \u001b[0mlen\u001b[0m\u001b[0;34m(\u001b[0m\u001b[0mself\u001b[0m\u001b[0;34m.\u001b[0m\u001b[0m_jobs\u001b[0m\u001b[0;34m)\u001b[0m\u001b[0;34m\u001b[0m\u001b[0;34m\u001b[0m\u001b[0m\n\u001b[0;32m--> 779\u001b[0;31m             \u001b[0mjob\u001b[0m \u001b[0;34m=\u001b[0m \u001b[0mself\u001b[0m\u001b[0;34m.\u001b[0m\u001b[0m_backend\u001b[0m\u001b[0;34m.\u001b[0m\u001b[0mapply_async\u001b[0m\u001b[0;34m(\u001b[0m\u001b[0mbatch\u001b[0m\u001b[0;34m,\u001b[0m \u001b[0mcallback\u001b[0m\u001b[0;34m=\u001b[0m\u001b[0mcb\u001b[0m\u001b[0;34m)\u001b[0m\u001b[0;34m\u001b[0m\u001b[0;34m\u001b[0m\u001b[0m\n\u001b[0m\u001b[1;32m    780\u001b[0m             \u001b[0;31m# A job can complete so quickly than its callback is\u001b[0m\u001b[0;34m\u001b[0m\u001b[0;34m\u001b[0m\u001b[0;34m\u001b[0m\u001b[0m\n\u001b[1;32m    781\u001b[0m             \u001b[0;31m# called before we get here, causing self._jobs to\u001b[0m\u001b[0;34m\u001b[0m\u001b[0;34m\u001b[0m\u001b[0;34m\u001b[0m\u001b[0m\n",
      "\u001b[0;32m~/Desktop/Deep-Learning/deep-learning/lib/python3.8/site-packages/joblib/_parallel_backends.py\u001b[0m in \u001b[0;36mapply_async\u001b[0;34m(self, func, callback)\u001b[0m\n\u001b[1;32m    206\u001b[0m     \u001b[0;32mdef\u001b[0m \u001b[0mapply_async\u001b[0m\u001b[0;34m(\u001b[0m\u001b[0mself\u001b[0m\u001b[0;34m,\u001b[0m \u001b[0mfunc\u001b[0m\u001b[0;34m,\u001b[0m \u001b[0mcallback\u001b[0m\u001b[0;34m=\u001b[0m\u001b[0;32mNone\u001b[0m\u001b[0;34m)\u001b[0m\u001b[0;34m:\u001b[0m\u001b[0;34m\u001b[0m\u001b[0;34m\u001b[0m\u001b[0m\n\u001b[1;32m    207\u001b[0m         \u001b[0;34m\"\"\"Schedule a func to be run\"\"\"\u001b[0m\u001b[0;34m\u001b[0m\u001b[0;34m\u001b[0m\u001b[0m\n\u001b[0;32m--> 208\u001b[0;31m         \u001b[0mresult\u001b[0m \u001b[0;34m=\u001b[0m \u001b[0mImmediateResult\u001b[0m\u001b[0;34m(\u001b[0m\u001b[0mfunc\u001b[0m\u001b[0;34m)\u001b[0m\u001b[0;34m\u001b[0m\u001b[0;34m\u001b[0m\u001b[0m\n\u001b[0m\u001b[1;32m    209\u001b[0m         \u001b[0;32mif\u001b[0m \u001b[0mcallback\u001b[0m\u001b[0;34m:\u001b[0m\u001b[0;34m\u001b[0m\u001b[0;34m\u001b[0m\u001b[0m\n\u001b[1;32m    210\u001b[0m             \u001b[0mcallback\u001b[0m\u001b[0;34m(\u001b[0m\u001b[0mresult\u001b[0m\u001b[0;34m)\u001b[0m\u001b[0;34m\u001b[0m\u001b[0;34m\u001b[0m\u001b[0m\n",
      "\u001b[0;32m~/Desktop/Deep-Learning/deep-learning/lib/python3.8/site-packages/joblib/_parallel_backends.py\u001b[0m in \u001b[0;36m__init__\u001b[0;34m(self, batch)\u001b[0m\n\u001b[1;32m    570\u001b[0m         \u001b[0;31m# Don't delay the application, to avoid keeping the input\u001b[0m\u001b[0;34m\u001b[0m\u001b[0;34m\u001b[0m\u001b[0;34m\u001b[0m\u001b[0m\n\u001b[1;32m    571\u001b[0m         \u001b[0;31m# arguments in memory\u001b[0m\u001b[0;34m\u001b[0m\u001b[0;34m\u001b[0m\u001b[0;34m\u001b[0m\u001b[0m\n\u001b[0;32m--> 572\u001b[0;31m         \u001b[0mself\u001b[0m\u001b[0;34m.\u001b[0m\u001b[0mresults\u001b[0m \u001b[0;34m=\u001b[0m \u001b[0mbatch\u001b[0m\u001b[0;34m(\u001b[0m\u001b[0;34m)\u001b[0m\u001b[0;34m\u001b[0m\u001b[0;34m\u001b[0m\u001b[0m\n\u001b[0m\u001b[1;32m    573\u001b[0m \u001b[0;34m\u001b[0m\u001b[0m\n\u001b[1;32m    574\u001b[0m     \u001b[0;32mdef\u001b[0m \u001b[0mget\u001b[0m\u001b[0;34m(\u001b[0m\u001b[0mself\u001b[0m\u001b[0;34m)\u001b[0m\u001b[0;34m:\u001b[0m\u001b[0;34m\u001b[0m\u001b[0;34m\u001b[0m\u001b[0m\n",
      "\u001b[0;32m~/Desktop/Deep-Learning/deep-learning/lib/python3.8/site-packages/joblib/parallel.py\u001b[0m in \u001b[0;36m__call__\u001b[0;34m(self)\u001b[0m\n\u001b[1;32m    260\u001b[0m         \u001b[0;31m# change the default number of processes to -1\u001b[0m\u001b[0;34m\u001b[0m\u001b[0;34m\u001b[0m\u001b[0;34m\u001b[0m\u001b[0m\n\u001b[1;32m    261\u001b[0m         \u001b[0;32mwith\u001b[0m \u001b[0mparallel_backend\u001b[0m\u001b[0;34m(\u001b[0m\u001b[0mself\u001b[0m\u001b[0;34m.\u001b[0m\u001b[0m_backend\u001b[0m\u001b[0;34m,\u001b[0m \u001b[0mn_jobs\u001b[0m\u001b[0;34m=\u001b[0m\u001b[0mself\u001b[0m\u001b[0;34m.\u001b[0m\u001b[0m_n_jobs\u001b[0m\u001b[0;34m)\u001b[0m\u001b[0;34m:\u001b[0m\u001b[0;34m\u001b[0m\u001b[0;34m\u001b[0m\u001b[0m\n\u001b[0;32m--> 262\u001b[0;31m             return [func(*args, **kwargs)\n\u001b[0m\u001b[1;32m    263\u001b[0m                     for func, args, kwargs in self.items]\n\u001b[1;32m    264\u001b[0m \u001b[0;34m\u001b[0m\u001b[0m\n",
      "\u001b[0;32m~/Desktop/Deep-Learning/deep-learning/lib/python3.8/site-packages/joblib/parallel.py\u001b[0m in \u001b[0;36m<listcomp>\u001b[0;34m(.0)\u001b[0m\n\u001b[1;32m    260\u001b[0m         \u001b[0;31m# change the default number of processes to -1\u001b[0m\u001b[0;34m\u001b[0m\u001b[0;34m\u001b[0m\u001b[0;34m\u001b[0m\u001b[0m\n\u001b[1;32m    261\u001b[0m         \u001b[0;32mwith\u001b[0m \u001b[0mparallel_backend\u001b[0m\u001b[0;34m(\u001b[0m\u001b[0mself\u001b[0m\u001b[0;34m.\u001b[0m\u001b[0m_backend\u001b[0m\u001b[0;34m,\u001b[0m \u001b[0mn_jobs\u001b[0m\u001b[0;34m=\u001b[0m\u001b[0mself\u001b[0m\u001b[0;34m.\u001b[0m\u001b[0m_n_jobs\u001b[0m\u001b[0;34m)\u001b[0m\u001b[0;34m:\u001b[0m\u001b[0;34m\u001b[0m\u001b[0;34m\u001b[0m\u001b[0m\n\u001b[0;32m--> 262\u001b[0;31m             return [func(*args, **kwargs)\n\u001b[0m\u001b[1;32m    263\u001b[0m                     for func, args, kwargs in self.items]\n\u001b[1;32m    264\u001b[0m \u001b[0;34m\u001b[0m\u001b[0m\n",
      "\u001b[0;32m~/Desktop/Deep-Learning/deep-learning/lib/python3.8/site-packages/sklearn/utils/fixes.py\u001b[0m in \u001b[0;36m__call__\u001b[0;34m(self, *args, **kwargs)\u001b[0m\n\u001b[1;32m    209\u001b[0m     \u001b[0;32mdef\u001b[0m \u001b[0m__call__\u001b[0m\u001b[0;34m(\u001b[0m\u001b[0mself\u001b[0m\u001b[0;34m,\u001b[0m \u001b[0;34m*\u001b[0m\u001b[0margs\u001b[0m\u001b[0;34m,\u001b[0m \u001b[0;34m**\u001b[0m\u001b[0mkwargs\u001b[0m\u001b[0;34m)\u001b[0m\u001b[0;34m:\u001b[0m\u001b[0;34m\u001b[0m\u001b[0;34m\u001b[0m\u001b[0m\n\u001b[1;32m    210\u001b[0m         \u001b[0;32mwith\u001b[0m \u001b[0mconfig_context\u001b[0m\u001b[0;34m(\u001b[0m\u001b[0;34m**\u001b[0m\u001b[0mself\u001b[0m\u001b[0;34m.\u001b[0m\u001b[0mconfig\u001b[0m\u001b[0;34m)\u001b[0m\u001b[0;34m:\u001b[0m\u001b[0;34m\u001b[0m\u001b[0;34m\u001b[0m\u001b[0m\n\u001b[0;32m--> 211\u001b[0;31m             \u001b[0;32mreturn\u001b[0m \u001b[0mself\u001b[0m\u001b[0;34m.\u001b[0m\u001b[0mfunction\u001b[0m\u001b[0;34m(\u001b[0m\u001b[0;34m*\u001b[0m\u001b[0margs\u001b[0m\u001b[0;34m,\u001b[0m \u001b[0;34m**\u001b[0m\u001b[0mkwargs\u001b[0m\u001b[0;34m)\u001b[0m\u001b[0;34m\u001b[0m\u001b[0;34m\u001b[0m\u001b[0m\n\u001b[0m\u001b[1;32m    212\u001b[0m \u001b[0;34m\u001b[0m\u001b[0m\n\u001b[1;32m    213\u001b[0m \u001b[0;34m\u001b[0m\u001b[0m\n",
      "\u001b[0;32m~/Desktop/Deep-Learning/deep-learning/lib/python3.8/site-packages/sklearn/model_selection/_validation.py\u001b[0m in \u001b[0;36m_fit_and_score\u001b[0;34m(estimator, X, y, scorer, train, test, verbose, parameters, fit_params, return_train_score, return_parameters, return_n_test_samples, return_times, return_estimator, split_progress, candidate_progress, error_score)\u001b[0m\n\u001b[1;32m    667\u001b[0m             \u001b[0mcloned_parameters\u001b[0m\u001b[0;34m[\u001b[0m\u001b[0mk\u001b[0m\u001b[0;34m]\u001b[0m \u001b[0;34m=\u001b[0m \u001b[0mclone\u001b[0m\u001b[0;34m(\u001b[0m\u001b[0mv\u001b[0m\u001b[0;34m,\u001b[0m \u001b[0msafe\u001b[0m\u001b[0;34m=\u001b[0m\u001b[0;32mFalse\u001b[0m\u001b[0;34m)\u001b[0m\u001b[0;34m\u001b[0m\u001b[0;34m\u001b[0m\u001b[0m\n\u001b[1;32m    668\u001b[0m \u001b[0;34m\u001b[0m\u001b[0m\n\u001b[0;32m--> 669\u001b[0;31m         \u001b[0mestimator\u001b[0m \u001b[0;34m=\u001b[0m \u001b[0mestimator\u001b[0m\u001b[0;34m.\u001b[0m\u001b[0mset_params\u001b[0m\u001b[0;34m(\u001b[0m\u001b[0;34m**\u001b[0m\u001b[0mcloned_parameters\u001b[0m\u001b[0;34m)\u001b[0m\u001b[0;34m\u001b[0m\u001b[0;34m\u001b[0m\u001b[0m\n\u001b[0m\u001b[1;32m    670\u001b[0m \u001b[0;34m\u001b[0m\u001b[0m\n\u001b[1;32m    671\u001b[0m     \u001b[0mstart_time\u001b[0m \u001b[0;34m=\u001b[0m \u001b[0mtime\u001b[0m\u001b[0;34m.\u001b[0m\u001b[0mtime\u001b[0m\u001b[0;34m(\u001b[0m\u001b[0;34m)\u001b[0m\u001b[0;34m\u001b[0m\u001b[0;34m\u001b[0m\u001b[0m\n",
      "\u001b[0;32m~/Desktop/Deep-Learning/deep-learning/lib/python3.8/site-packages/sklearn/base.py\u001b[0m in \u001b[0;36mset_params\u001b[0;34m(self, **params)\u001b[0m\n\u001b[1;32m    238\u001b[0m             \u001b[0mkey\u001b[0m\u001b[0;34m,\u001b[0m \u001b[0mdelim\u001b[0m\u001b[0;34m,\u001b[0m \u001b[0msub_key\u001b[0m \u001b[0;34m=\u001b[0m \u001b[0mkey\u001b[0m\u001b[0;34m.\u001b[0m\u001b[0mpartition\u001b[0m\u001b[0;34m(\u001b[0m\u001b[0;34m\"__\"\u001b[0m\u001b[0;34m)\u001b[0m\u001b[0;34m\u001b[0m\u001b[0;34m\u001b[0m\u001b[0m\n\u001b[1;32m    239\u001b[0m             \u001b[0;32mif\u001b[0m \u001b[0mkey\u001b[0m \u001b[0;32mnot\u001b[0m \u001b[0;32min\u001b[0m \u001b[0mvalid_params\u001b[0m\u001b[0;34m:\u001b[0m\u001b[0;34m\u001b[0m\u001b[0;34m\u001b[0m\u001b[0m\n\u001b[0;32m--> 240\u001b[0;31m                 raise ValueError(\n\u001b[0m\u001b[1;32m    241\u001b[0m                     \u001b[0;34m\"Invalid parameter %s for estimator %s. \"\u001b[0m\u001b[0;34m\u001b[0m\u001b[0;34m\u001b[0m\u001b[0m\n\u001b[1;32m    242\u001b[0m                     \u001b[0;34m\"Check the list of available parameters \"\u001b[0m\u001b[0;34m\u001b[0m\u001b[0;34m\u001b[0m\u001b[0m\n",
      "\u001b[0;31mValueError\u001b[0m: Invalid parameter leaf_size for estimator GaussianNB(). Check the list of available parameters with `estimator.get_params().keys()`."
     ]
    }
   ],
   "source": [
    "cv.fit(dataset[0], dataset[2])"
   ]
  },
  {
   "cell_type": "code",
   "execution_count": 113,
   "metadata": {},
   "outputs": [
    {
     "ename": "AttributeError",
     "evalue": "'GridSearchCV' object has no attribute 'best_params_'",
     "output_type": "error",
     "traceback": [
      "\u001b[0;31m---------------------------------------------------------------------------\u001b[0m",
      "\u001b[0;31mAttributeError\u001b[0m                            Traceback (most recent call last)",
      "\u001b[0;32m/tmp/ipykernel_15247/2322182027.py\u001b[0m in \u001b[0;36m<module>\u001b[0;34m\u001b[0m\n\u001b[0;32m----> 1\u001b[0;31m \u001b[0mprint\u001b[0m\u001b[0;34m(\u001b[0m\u001b[0;34m'Best Params:'\u001b[0m\u001b[0;34m,\u001b[0m \u001b[0mcv\u001b[0m\u001b[0;34m.\u001b[0m\u001b[0mbest_params_\u001b[0m\u001b[0;34m,\u001b[0m \u001b[0;34m'\\n'\u001b[0m\u001b[0;34m,\u001b[0m \u001b[0;34m'Train acc:'\u001b[0m\u001b[0;34m,\u001b[0m \u001b[0mcv\u001b[0m\u001b[0;34m.\u001b[0m\u001b[0mbest_score_\u001b[0m\u001b[0;34m,\u001b[0m \u001b[0;34m'\\n'\u001b[0m\u001b[0;34m,\u001b[0m \u001b[0;34m'test acc:'\u001b[0m\u001b[0;34m,\u001b[0m \u001b[0mcv\u001b[0m\u001b[0;34m.\u001b[0m\u001b[0mscore\u001b[0m\u001b[0;34m(\u001b[0m\u001b[0mdataset\u001b[0m\u001b[0;34m[\u001b[0m\u001b[0;36m1\u001b[0m\u001b[0;34m]\u001b[0m\u001b[0;34m,\u001b[0m \u001b[0mdataset\u001b[0m\u001b[0;34m[\u001b[0m\u001b[0;36m3\u001b[0m\u001b[0;34m]\u001b[0m\u001b[0;34m)\u001b[0m\u001b[0;34m)\u001b[0m\u001b[0;34m\u001b[0m\u001b[0;34m\u001b[0m\u001b[0m\n\u001b[0m",
      "\u001b[0;31mAttributeError\u001b[0m: 'GridSearchCV' object has no attribute 'best_params_'"
     ]
    }
   ],
   "source": [
    "print('Best Params:', cv.best_params_, '\\n', 'Train acc:', cv.best_score_, '\\n', 'test acc:', cv.score(dataset[1], dataset[3]))"
   ]
  }
 ],
 "metadata": {
  "interpreter": {
   "hash": "cd7d9e72280261726b9f16531ddc53955d38cf66cdcf2f3c472847fd90858e71"
  },
  "kernelspec": {
   "display_name": "Python 3.8.10 64-bit ('deep-learning': venv)",
   "language": "python",
   "name": "python3"
  },
  "language_info": {
   "codemirror_mode": {
    "name": "ipython",
    "version": 3
   },
   "file_extension": ".py",
   "mimetype": "text/x-python",
   "name": "python",
   "nbconvert_exporter": "python",
   "pygments_lexer": "ipython3",
   "version": "3.8.10"
  },
  "orig_nbformat": 4
 },
 "nbformat": 4,
 "nbformat_minor": 2
}
